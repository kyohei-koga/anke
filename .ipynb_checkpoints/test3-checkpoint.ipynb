{
 "cells": [
  {
   "cell_type": "code",
   "execution_count": 1,
   "metadata": {
    "collapsed": true
   },
   "outputs": [],
   "source": [
    "import pandas as pd\n",
    "import numpy as np\n",
    "import matplotlib.pyplot as plt\n",
    "import seaborn as sns\n",
    "%matplotlib inline"
   ]
  },
  {
   "cell_type": "code",
   "execution_count": 2,
   "metadata": {
    "collapsed": true
   },
   "outputs": [],
   "source": [
    "columns = pd.read_excel('/home/kyohei/NEDO_anke_data/NEDO_H24.xlsx').columns\n",
    "data = pd.read_excel('/home/kyohei/NEDO_anke_data/NEDO_H24.xlsx',skiprows=6,skip_footer=12)\n",
    "data.columns = columns"
   ]
  },
  {
   "cell_type": "markdown",
   "metadata": {},
   "source": [
    "### マネジメントに係る項目\n",
    "\n",
    "#### Q4\n",
    "- 目的の明確さ\n",
    "- 目的の共有\n",
    "- 目標の明確さ\n",
    "- 目標の共有\n",
    "- 役割分担の明確さ\n",
    "- 役割分担の共有\n",
    "\n",
    "#### Q11\n",
    "- 目標値の達成度\n",
    "\n",
    "#### Q30\n",
    "- ネットワークに寄与した要因\n",
    "\n",
    "#### Q33\n",
    "- 研究開発の推進や方向付け\n",
    "- 他機関との調整\n",
    "- 事業化の推進や方向付け\n",
    "\n",
    "#### Q34\n",
    "- NEDOプロジェクトリーダーとの協議\n",
    "- NEDOの担当者との協議\n",
    "\n",
    "#### Q44\n",
    "- プロジェクトに対する満足度はどれくらいでしたか\n",
    "\n",
    "#### Q46\n",
    "- 採択審査委員は適任者で構成されていましたか\n",
    "- 採択審査時のコメント内容\n",
    "\n",
    "#### Q47\n",
    "- プロジェクトの推進に関して有効な低減や意見はありましたか\n",
    "\n",
    "#### Q48\n",
    "- 中間評価の満足度\n",
    "- 中間評価での指摘事項が及ぼすその後のプロジェクトの影響\n",
    "\n",
    "#### Q49\n",
    "- 事後評価の満足度→事後評価を受けていない事業者が結構いるので、使わない。\n",
    "\n",
    "#### Q50\n",
    "- NEDOの担当のマネジメントに対する満足度はどれくらいでしたか\n",
    "\n",
    "#### Q51\n",
    "- やって欲しかったこと←何個あるか"
   ]
  },
  {
   "cell_type": "code",
   "execution_count": 3,
   "metadata": {
    "collapsed": false
   },
   "outputs": [
    {
     "data": {
      "text/html": [
       "<div>\n",
       "<table border=\"1\" class=\"dataframe\">\n",
       "  <thead>\n",
       "    <tr style=\"text-align: right;\">\n",
       "      <th></th>\n",
       "      <th>Q4_目的明確</th>\n",
       "      <th>Q4_目的共有</th>\n",
       "      <th>Q4_目標明確</th>\n",
       "      <th>Q4_目標共有</th>\n",
       "      <th>Q4_役割分担</th>\n",
       "      <th>Q4_役割共有</th>\n",
       "    </tr>\n",
       "  </thead>\n",
       "  <tbody>\n",
       "    <tr>\n",
       "      <th>0</th>\n",
       "      <td>1.0</td>\n",
       "      <td>1.0</td>\n",
       "      <td>1.0</td>\n",
       "      <td>1.0</td>\n",
       "      <td>1.0</td>\n",
       "      <td>1.0</td>\n",
       "    </tr>\n",
       "    <tr>\n",
       "      <th>1</th>\n",
       "      <td>2.0</td>\n",
       "      <td>1.0</td>\n",
       "      <td>2.0</td>\n",
       "      <td>1.0</td>\n",
       "      <td>2.0</td>\n",
       "      <td>1.0</td>\n",
       "    </tr>\n",
       "    <tr>\n",
       "      <th>2</th>\n",
       "      <td>1.0</td>\n",
       "      <td>1.0</td>\n",
       "      <td>1.0</td>\n",
       "      <td>1.0</td>\n",
       "      <td>1.0</td>\n",
       "      <td>1.0</td>\n",
       "    </tr>\n",
       "    <tr>\n",
       "      <th>3</th>\n",
       "      <td>1.0</td>\n",
       "      <td>1.0</td>\n",
       "      <td>1.0</td>\n",
       "      <td>1.0</td>\n",
       "      <td>1.0</td>\n",
       "      <td>1.0</td>\n",
       "    </tr>\n",
       "    <tr>\n",
       "      <th>4</th>\n",
       "      <td>1.0</td>\n",
       "      <td>1.0</td>\n",
       "      <td>1.0</td>\n",
       "      <td>1.0</td>\n",
       "      <td>1.0</td>\n",
       "      <td>1.0</td>\n",
       "    </tr>\n",
       "  </tbody>\n",
       "</table>\n",
       "</div>"
      ],
      "text/plain": [
       "   Q4_目的明確  Q4_目的共有  Q4_目標明確  Q4_目標共有  Q4_役割分担  Q4_役割共有\n",
       "0      1.0      1.0      1.0      1.0      1.0      1.0\n",
       "1      2.0      1.0      2.0      1.0      2.0      1.0\n",
       "2      1.0      1.0      1.0      1.0      1.0      1.0\n",
       "3      1.0      1.0      1.0      1.0      1.0      1.0\n",
       "4      1.0      1.0      1.0      1.0      1.0      1.0"
      ]
     },
     "execution_count": 3,
     "metadata": {},
     "output_type": "execute_result"
    }
   ],
   "source": [
    "data.ix[:,data.columns.str.contains(u'Q4_')].head()"
   ]
  },
  {
   "cell_type": "code",
   "execution_count": 4,
   "metadata": {
    "collapsed": false,
    "scrolled": true
   },
   "outputs": [],
   "source": [
    "Q4 = data.ix[:,data.columns.str.contains(u'Q4_')]\n",
    "columns_Q4 = Q4.columns\n",
    "data_temp = []\n",
    "for i,value in enumerate(columns_Q4):\n",
    "    temp = pd.get_dummies(Q4[value],prefix=value)\n",
    "    data_temp.append(temp)\n",
    "Q4_open = pd.concat(data_temp,axis=1)"
   ]
  },
  {
   "cell_type": "code",
   "execution_count": 5,
   "metadata": {
    "collapsed": false
   },
   "outputs": [
    {
     "data": {
      "text/html": [
       "<div>\n",
       "<table border=\"1\" class=\"dataframe\">\n",
       "  <thead>\n",
       "    <tr style=\"text-align: right;\">\n",
       "      <th></th>\n",
       "      <th>Q4_目的明確_1.0</th>\n",
       "      <th>Q4_目的明確_2.0</th>\n",
       "      <th>Q4_目的共有_1.0</th>\n",
       "      <th>Q4_目的共有_2.0</th>\n",
       "      <th>Q4_目標明確_1.0</th>\n",
       "      <th>Q4_目標明確_2.0</th>\n",
       "      <th>Q4_目標共有_1.0</th>\n",
       "      <th>Q4_目標共有_2.0</th>\n",
       "      <th>Q4_役割分担_1.0</th>\n",
       "      <th>Q4_役割分担_2.0</th>\n",
       "      <th>Q4_役割分担_3.0</th>\n",
       "      <th>Q4_役割共有_1.0</th>\n",
       "      <th>Q4_役割共有_2.0</th>\n",
       "      <th>Q4_役割共有_3.0</th>\n",
       "    </tr>\n",
       "  </thead>\n",
       "  <tbody>\n",
       "    <tr>\n",
       "      <th>0</th>\n",
       "      <td>1.0</td>\n",
       "      <td>0.0</td>\n",
       "      <td>1.0</td>\n",
       "      <td>0.0</td>\n",
       "      <td>1.0</td>\n",
       "      <td>0.0</td>\n",
       "      <td>1.0</td>\n",
       "      <td>0.0</td>\n",
       "      <td>1.0</td>\n",
       "      <td>0.0</td>\n",
       "      <td>0.0</td>\n",
       "      <td>1.0</td>\n",
       "      <td>0.0</td>\n",
       "      <td>0.0</td>\n",
       "    </tr>\n",
       "    <tr>\n",
       "      <th>1</th>\n",
       "      <td>0.0</td>\n",
       "      <td>1.0</td>\n",
       "      <td>1.0</td>\n",
       "      <td>0.0</td>\n",
       "      <td>0.0</td>\n",
       "      <td>1.0</td>\n",
       "      <td>1.0</td>\n",
       "      <td>0.0</td>\n",
       "      <td>0.0</td>\n",
       "      <td>1.0</td>\n",
       "      <td>0.0</td>\n",
       "      <td>1.0</td>\n",
       "      <td>0.0</td>\n",
       "      <td>0.0</td>\n",
       "    </tr>\n",
       "    <tr>\n",
       "      <th>2</th>\n",
       "      <td>1.0</td>\n",
       "      <td>0.0</td>\n",
       "      <td>1.0</td>\n",
       "      <td>0.0</td>\n",
       "      <td>1.0</td>\n",
       "      <td>0.0</td>\n",
       "      <td>1.0</td>\n",
       "      <td>0.0</td>\n",
       "      <td>1.0</td>\n",
       "      <td>0.0</td>\n",
       "      <td>0.0</td>\n",
       "      <td>1.0</td>\n",
       "      <td>0.0</td>\n",
       "      <td>0.0</td>\n",
       "    </tr>\n",
       "  </tbody>\n",
       "</table>\n",
       "</div>"
      ],
      "text/plain": [
       "   Q4_目的明確_1.0  Q4_目的明確_2.0  Q4_目的共有_1.0  Q4_目的共有_2.0  Q4_目標明確_1.0  \\\n",
       "0          1.0          0.0          1.0          0.0          1.0   \n",
       "1          0.0          1.0          1.0          0.0          0.0   \n",
       "2          1.0          0.0          1.0          0.0          1.0   \n",
       "\n",
       "   Q4_目標明確_2.0  Q4_目標共有_1.0  Q4_目標共有_2.0  Q4_役割分担_1.0  Q4_役割分担_2.0  \\\n",
       "0          0.0          1.0          0.0          1.0          0.0   \n",
       "1          1.0          1.0          0.0          0.0          1.0   \n",
       "2          0.0          1.0          0.0          1.0          0.0   \n",
       "\n",
       "   Q4_役割分担_3.0  Q4_役割共有_1.0  Q4_役割共有_2.0  Q4_役割共有_3.0  \n",
       "0          0.0          1.0          0.0          0.0  \n",
       "1          0.0          1.0          0.0          0.0  \n",
       "2          0.0          1.0          0.0          0.0  "
      ]
     },
     "execution_count": 5,
     "metadata": {},
     "output_type": "execute_result"
    }
   ],
   "source": [
    "Q4_open.head(3)"
   ]
  },
  {
   "cell_type": "code",
   "execution_count": 6,
   "metadata": {
    "collapsed": false
   },
   "outputs": [],
   "source": [
    "Q11_open = pd.get_dummies(data[u'Q11_目標'],prefix=u'Q11_目標')"
   ]
  },
  {
   "cell_type": "code",
   "execution_count": 7,
   "metadata": {
    "collapsed": false
   },
   "outputs": [
    {
     "data": {
      "text/html": [
       "<div>\n",
       "<table border=\"1\" class=\"dataframe\">\n",
       "  <thead>\n",
       "    <tr style=\"text-align: right;\">\n",
       "      <th></th>\n",
       "      <th>Q11_目標_1.0</th>\n",
       "      <th>Q11_目標_2.0</th>\n",
       "      <th>Q11_目標_3.0</th>\n",
       "      <th>Q11_目標_4.0</th>\n",
       "      <th>Q11_目標_6.0</th>\n",
       "    </tr>\n",
       "  </thead>\n",
       "  <tbody>\n",
       "    <tr>\n",
       "      <th>0</th>\n",
       "      <td>1.0</td>\n",
       "      <td>0.0</td>\n",
       "      <td>0.0</td>\n",
       "      <td>0.0</td>\n",
       "      <td>0.0</td>\n",
       "    </tr>\n",
       "    <tr>\n",
       "      <th>1</th>\n",
       "      <td>1.0</td>\n",
       "      <td>0.0</td>\n",
       "      <td>0.0</td>\n",
       "      <td>0.0</td>\n",
       "      <td>0.0</td>\n",
       "    </tr>\n",
       "    <tr>\n",
       "      <th>2</th>\n",
       "      <td>0.0</td>\n",
       "      <td>1.0</td>\n",
       "      <td>0.0</td>\n",
       "      <td>0.0</td>\n",
       "      <td>0.0</td>\n",
       "    </tr>\n",
       "  </tbody>\n",
       "</table>\n",
       "</div>"
      ],
      "text/plain": [
       "   Q11_目標_1.0  Q11_目標_2.0  Q11_目標_3.0  Q11_目標_4.0  Q11_目標_6.0\n",
       "0         1.0         0.0         0.0         0.0         0.0\n",
       "1         1.0         0.0         0.0         0.0         0.0\n",
       "2         0.0         1.0         0.0         0.0         0.0"
      ]
     },
     "execution_count": 7,
     "metadata": {},
     "output_type": "execute_result"
    }
   ],
   "source": [
    "Q11_open.head(3)"
   ]
  },
  {
   "cell_type": "code",
   "execution_count": 8,
   "metadata": {
    "collapsed": false
   },
   "outputs": [],
   "source": [
    "Q30_open = data[[u'Q30_ネットワーク要因_日常的なNEDOとの交流',u'Q30_ネットワーク要因_NEDO主催の委員会など']].fillna(0)"
   ]
  },
  {
   "cell_type": "code",
   "execution_count": 9,
   "metadata": {
    "collapsed": false
   },
   "outputs": [],
   "source": [
    "temp = data[[u'Q33_推進',u'Q33_調整',u'Q33_事業化']]"
   ]
  },
  {
   "cell_type": "code",
   "execution_count": 10,
   "metadata": {
    "collapsed": false
   },
   "outputs": [],
   "source": [
    "temp_data = []\n",
    "for i,value in enumerate(temp.columns):\n",
    "    data_ = pd.get_dummies(data[value],prefix=value)\n",
    "    temp_data.append(data_)\n",
    "Q33_open = pd.concat(temp_data,axis=1)"
   ]
  },
  {
   "cell_type": "code",
   "execution_count": 11,
   "metadata": {
    "collapsed": false
   },
   "outputs": [],
   "source": [
    "Q33_open = Q33_open.ix[:,(Q33_open.columns.str.contains(u'_1.0'))]"
   ]
  },
  {
   "cell_type": "code",
   "execution_count": 12,
   "metadata": {
    "collapsed": false
   },
   "outputs": [
    {
     "data": {
      "text/html": [
       "<div>\n",
       "<table border=\"1\" class=\"dataframe\">\n",
       "  <thead>\n",
       "    <tr style=\"text-align: right;\">\n",
       "      <th></th>\n",
       "      <th>Q33_推進_1.0</th>\n",
       "      <th>Q33_調整_1.0</th>\n",
       "      <th>Q33_事業化_1.0</th>\n",
       "    </tr>\n",
       "  </thead>\n",
       "  <tbody>\n",
       "    <tr>\n",
       "      <th>0</th>\n",
       "      <td>0.0</td>\n",
       "      <td>0.0</td>\n",
       "      <td>0.0</td>\n",
       "    </tr>\n",
       "    <tr>\n",
       "      <th>1</th>\n",
       "      <td>0.0</td>\n",
       "      <td>1.0</td>\n",
       "      <td>0.0</td>\n",
       "    </tr>\n",
       "    <tr>\n",
       "      <th>2</th>\n",
       "      <td>1.0</td>\n",
       "      <td>0.0</td>\n",
       "      <td>0.0</td>\n",
       "    </tr>\n",
       "  </tbody>\n",
       "</table>\n",
       "</div>"
      ],
      "text/plain": [
       "   Q33_推進_1.0  Q33_調整_1.0  Q33_事業化_1.0\n",
       "0         0.0         0.0          0.0\n",
       "1         0.0         1.0          0.0\n",
       "2         1.0         0.0          0.0"
      ]
     },
     "execution_count": 12,
     "metadata": {},
     "output_type": "execute_result"
    }
   ],
   "source": [
    "Q33_open.head(3)"
   ]
  },
  {
   "cell_type": "code",
   "execution_count": 13,
   "metadata": {
    "collapsed": false,
    "scrolled": true
   },
   "outputs": [],
   "source": [
    "Q34_open = pd.get_dummies(data[u'Q34_PL'],prefix=u'Q34_PL')"
   ]
  },
  {
   "cell_type": "code",
   "execution_count": 14,
   "metadata": {
    "collapsed": false
   },
   "outputs": [
    {
     "data": {
      "text/html": [
       "<div>\n",
       "<table border=\"1\" class=\"dataframe\">\n",
       "  <thead>\n",
       "    <tr style=\"text-align: right;\">\n",
       "      <th></th>\n",
       "      <th>Q34_PL_1.0</th>\n",
       "      <th>Q34_PL_2.0</th>\n",
       "      <th>Q34_PL_3.0</th>\n",
       "      <th>Q34_PL_4.0</th>\n",
       "      <th>Q34_PL_5.0</th>\n",
       "      <th>Q34_PL_6.0</th>\n",
       "    </tr>\n",
       "  </thead>\n",
       "  <tbody>\n",
       "    <tr>\n",
       "      <th>0</th>\n",
       "      <td>0.0</td>\n",
       "      <td>0.0</td>\n",
       "      <td>0.0</td>\n",
       "      <td>0.0</td>\n",
       "      <td>1.0</td>\n",
       "      <td>0.0</td>\n",
       "    </tr>\n",
       "    <tr>\n",
       "      <th>1</th>\n",
       "      <td>0.0</td>\n",
       "      <td>0.0</td>\n",
       "      <td>1.0</td>\n",
       "      <td>0.0</td>\n",
       "      <td>0.0</td>\n",
       "      <td>0.0</td>\n",
       "    </tr>\n",
       "    <tr>\n",
       "      <th>2</th>\n",
       "      <td>0.0</td>\n",
       "      <td>1.0</td>\n",
       "      <td>0.0</td>\n",
       "      <td>0.0</td>\n",
       "      <td>0.0</td>\n",
       "      <td>0.0</td>\n",
       "    </tr>\n",
       "  </tbody>\n",
       "</table>\n",
       "</div>"
      ],
      "text/plain": [
       "   Q34_PL_1.0  Q34_PL_2.0  Q34_PL_3.0  Q34_PL_4.0  Q34_PL_5.0  Q34_PL_6.0\n",
       "0         0.0         0.0         0.0         0.0         1.0         0.0\n",
       "1         0.0         0.0         1.0         0.0         0.0         0.0\n",
       "2         0.0         1.0         0.0         0.0         0.0         0.0"
      ]
     },
     "execution_count": 14,
     "metadata": {},
     "output_type": "execute_result"
    }
   ],
   "source": [
    "Q34_open.head(3)"
   ]
  },
  {
   "cell_type": "code",
   "execution_count": 15,
   "metadata": {
    "collapsed": false
   },
   "outputs": [],
   "source": [
    "Q44_open = pd.get_dummies(data[u'Q44_満足_評価'],prefix=u'Q44_満足_評価')"
   ]
  },
  {
   "cell_type": "code",
   "execution_count": 16,
   "metadata": {
    "collapsed": false
   },
   "outputs": [
    {
     "data": {
      "text/html": [
       "<div>\n",
       "<table border=\"1\" class=\"dataframe\">\n",
       "  <thead>\n",
       "    <tr style=\"text-align: right;\">\n",
       "      <th></th>\n",
       "      <th>Q44_満足_評価_1.0</th>\n",
       "      <th>Q44_満足_評価_2.0</th>\n",
       "      <th>Q44_満足_評価_3.0</th>\n",
       "      <th>Q44_満足_評価_4.0</th>\n",
       "      <th>Q44_満足_評価_5.0</th>\n",
       "    </tr>\n",
       "  </thead>\n",
       "  <tbody>\n",
       "    <tr>\n",
       "      <th>0</th>\n",
       "      <td>1.0</td>\n",
       "      <td>0.0</td>\n",
       "      <td>0.0</td>\n",
       "      <td>0.0</td>\n",
       "      <td>0.0</td>\n",
       "    </tr>\n",
       "    <tr>\n",
       "      <th>1</th>\n",
       "      <td>0.0</td>\n",
       "      <td>0.0</td>\n",
       "      <td>1.0</td>\n",
       "      <td>0.0</td>\n",
       "      <td>0.0</td>\n",
       "    </tr>\n",
       "    <tr>\n",
       "      <th>2</th>\n",
       "      <td>0.0</td>\n",
       "      <td>1.0</td>\n",
       "      <td>0.0</td>\n",
       "      <td>0.0</td>\n",
       "      <td>0.0</td>\n",
       "    </tr>\n",
       "  </tbody>\n",
       "</table>\n",
       "</div>"
      ],
      "text/plain": [
       "   Q44_満足_評価_1.0  Q44_満足_評価_2.0  Q44_満足_評価_3.0  Q44_満足_評価_4.0  Q44_満足_評価_5.0\n",
       "0            1.0            0.0            0.0            0.0            0.0\n",
       "1            0.0            0.0            1.0            0.0            0.0\n",
       "2            0.0            1.0            0.0            0.0            0.0"
      ]
     },
     "execution_count": 16,
     "metadata": {},
     "output_type": "execute_result"
    }
   ],
   "source": [
    "Q44_open.head(3)"
   ]
  },
  {
   "cell_type": "code",
   "execution_count": 17,
   "metadata": {
    "collapsed": false,
    "scrolled": true
   },
   "outputs": [],
   "source": [
    "temp = data.ix[:,data.columns.str.contains(u'Q46_')]"
   ]
  },
  {
   "cell_type": "code",
   "execution_count": 18,
   "metadata": {
    "collapsed": true
   },
   "outputs": [],
   "source": [
    "temp_data = []\n",
    "for i,value in enumerate(temp.columns):\n",
    "    temp_data_ = pd.get_dummies(temp[value],prefix=value)\n",
    "    temp_data.append(temp_data_)\n",
    "Q46_open = pd.concat(temp_data,axis=1)"
   ]
  },
  {
   "cell_type": "code",
   "execution_count": 19,
   "metadata": {
    "collapsed": false
   },
   "outputs": [
    {
     "data": {
      "text/html": [
       "<div>\n",
       "<table border=\"1\" class=\"dataframe\">\n",
       "  <thead>\n",
       "    <tr style=\"text-align: right;\">\n",
       "      <th></th>\n",
       "      <th>Q46_構成_1.0</th>\n",
       "      <th>Q46_構成_2.0</th>\n",
       "      <th>Q46_構成_3.0</th>\n",
       "      <th>Q46_構成_5.0</th>\n",
       "      <th>Q46_内容_1.0</th>\n",
       "      <th>Q46_内容_2.0</th>\n",
       "      <th>Q46_内容_3.0</th>\n",
       "      <th>Q46_内容_4.0</th>\n",
       "    </tr>\n",
       "  </thead>\n",
       "  <tbody>\n",
       "    <tr>\n",
       "      <th>0</th>\n",
       "      <td>0.0</td>\n",
       "      <td>0.0</td>\n",
       "      <td>0.0</td>\n",
       "      <td>1.0</td>\n",
       "      <td>0.0</td>\n",
       "      <td>0.0</td>\n",
       "      <td>0.0</td>\n",
       "      <td>1.0</td>\n",
       "    </tr>\n",
       "    <tr>\n",
       "      <th>1</th>\n",
       "      <td>0.0</td>\n",
       "      <td>1.0</td>\n",
       "      <td>0.0</td>\n",
       "      <td>0.0</td>\n",
       "      <td>1.0</td>\n",
       "      <td>0.0</td>\n",
       "      <td>0.0</td>\n",
       "      <td>0.0</td>\n",
       "    </tr>\n",
       "    <tr>\n",
       "      <th>2</th>\n",
       "      <td>1.0</td>\n",
       "      <td>0.0</td>\n",
       "      <td>0.0</td>\n",
       "      <td>0.0</td>\n",
       "      <td>0.0</td>\n",
       "      <td>0.0</td>\n",
       "      <td>0.0</td>\n",
       "      <td>1.0</td>\n",
       "    </tr>\n",
       "  </tbody>\n",
       "</table>\n",
       "</div>"
      ],
      "text/plain": [
       "   Q46_構成_1.0  Q46_構成_2.0  Q46_構成_3.0  Q46_構成_5.0  Q46_内容_1.0  Q46_内容_2.0  \\\n",
       "0         0.0         0.0         0.0         1.0         0.0         0.0   \n",
       "1         0.0         1.0         0.0         0.0         1.0         0.0   \n",
       "2         1.0         0.0         0.0         0.0         0.0         0.0   \n",
       "\n",
       "   Q46_内容_3.0  Q46_内容_4.0  \n",
       "0         0.0         1.0  \n",
       "1         0.0         0.0  \n",
       "2         0.0         1.0  "
      ]
     },
     "execution_count": 19,
     "metadata": {},
     "output_type": "execute_result"
    }
   ],
   "source": [
    "Q46_open.head(3)"
   ]
  },
  {
   "cell_type": "code",
   "execution_count": 20,
   "metadata": {
    "collapsed": true
   },
   "outputs": [],
   "source": [
    "Q47_open = pd.get_dummies(data[u'Q47_提言'],prefix=u'Q47_提言')"
   ]
  },
  {
   "cell_type": "code",
   "execution_count": 21,
   "metadata": {
    "collapsed": false
   },
   "outputs": [
    {
     "data": {
      "text/html": [
       "<div>\n",
       "<table border=\"1\" class=\"dataframe\">\n",
       "  <thead>\n",
       "    <tr style=\"text-align: right;\">\n",
       "      <th></th>\n",
       "      <th>Q47_提言_1.0</th>\n",
       "      <th>Q47_提言_2.0</th>\n",
       "      <th>Q47_提言_3.0</th>\n",
       "      <th>Q47_提言_4.0</th>\n",
       "    </tr>\n",
       "  </thead>\n",
       "  <tbody>\n",
       "    <tr>\n",
       "      <th>0</th>\n",
       "      <td>1.0</td>\n",
       "      <td>0.0</td>\n",
       "      <td>0.0</td>\n",
       "      <td>0.0</td>\n",
       "    </tr>\n",
       "    <tr>\n",
       "      <th>1</th>\n",
       "      <td>0.0</td>\n",
       "      <td>1.0</td>\n",
       "      <td>0.0</td>\n",
       "      <td>0.0</td>\n",
       "    </tr>\n",
       "    <tr>\n",
       "      <th>2</th>\n",
       "      <td>1.0</td>\n",
       "      <td>0.0</td>\n",
       "      <td>0.0</td>\n",
       "      <td>0.0</td>\n",
       "    </tr>\n",
       "  </tbody>\n",
       "</table>\n",
       "</div>"
      ],
      "text/plain": [
       "   Q47_提言_1.0  Q47_提言_2.0  Q47_提言_3.0  Q47_提言_4.0\n",
       "0         1.0         0.0         0.0         0.0\n",
       "1         0.0         1.0         0.0         0.0\n",
       "2         1.0         0.0         0.0         0.0"
      ]
     },
     "execution_count": 21,
     "metadata": {},
     "output_type": "execute_result"
    }
   ],
   "source": [
    "Q47_open.head(3)"
   ]
  },
  {
   "cell_type": "code",
   "execution_count": 22,
   "metadata": {
    "collapsed": false
   },
   "outputs": [
    {
     "data": {
      "text/html": [
       "<div>\n",
       "<table border=\"1\" class=\"dataframe\">\n",
       "  <thead>\n",
       "    <tr style=\"text-align: right;\">\n",
       "      <th></th>\n",
       "      <th>Q48_満足_評価</th>\n",
       "      <th>Q48_理由</th>\n",
       "      <th>Q48_影響_目標達成度の向上</th>\n",
       "      <th>Q48_影響_予期せぬ成果が得られた</th>\n",
       "      <th>Q48_影響_競争優位性の強化</th>\n",
       "      <th>Q48_影響_殆どなかった</th>\n",
       "      <th>Q48_影響_その他</th>\n",
       "      <th>Q48_影響_記述欄</th>\n",
       "      <th>Q48_指摘_技術の進展予測</th>\n",
       "      <th>Q48_指摘_計画の変更・追加</th>\n",
       "      <th>Q48_指摘_技術・コスト課題克服アイディア</th>\n",
       "      <th>Q48_指摘_メカニズムの解明のアイディア・ヒント</th>\n",
       "      <th>Q48_指摘_周辺技術動向の情報</th>\n",
       "      <th>Q48_指摘_中止の勧告</th>\n",
       "      <th>Q48_指摘_その他</th>\n",
       "      <th>Q48_指摘_記述欄</th>\n",
       "    </tr>\n",
       "  </thead>\n",
       "  <tbody>\n",
       "    <tr>\n",
       "      <th>0</th>\n",
       "      <td>1.0</td>\n",
       "      <td>中間評価のタイミングは適切で、委員からも適切なコメントをいただいた。</td>\n",
       "      <td>1.0</td>\n",
       "      <td>NaN</td>\n",
       "      <td>NaN</td>\n",
       "      <td>NaN</td>\n",
       "      <td>NaN</td>\n",
       "      <td>NaN</td>\n",
       "      <td>NaN</td>\n",
       "      <td>NaN</td>\n",
       "      <td>NaN</td>\n",
       "      <td>NaN</td>\n",
       "      <td>1.0</td>\n",
       "      <td>NaN</td>\n",
       "      <td>NaN</td>\n",
       "      <td>NaN</td>\n",
       "    </tr>\n",
       "    <tr>\n",
       "      <th>1</th>\n",
       "      <td>1.0</td>\n",
       "      <td>中間評価の目標値は達成したので、良いコメントがもらえ満足。</td>\n",
       "      <td>1.0</td>\n",
       "      <td>NaN</td>\n",
       "      <td>NaN</td>\n",
       "      <td>NaN</td>\n",
       "      <td>NaN</td>\n",
       "      <td>NaN</td>\n",
       "      <td>NaN</td>\n",
       "      <td>NaN</td>\n",
       "      <td>NaN</td>\n",
       "      <td>1.0</td>\n",
       "      <td>1.0</td>\n",
       "      <td>NaN</td>\n",
       "      <td>NaN</td>\n",
       "      <td>NaN</td>\n",
       "    </tr>\n",
       "    <tr>\n",
       "      <th>2</th>\n",
       "      <td>2.0</td>\n",
       "      <td>困難な状況を適性に評価いただいた</td>\n",
       "      <td>1.0</td>\n",
       "      <td>NaN</td>\n",
       "      <td>NaN</td>\n",
       "      <td>NaN</td>\n",
       "      <td>NaN</td>\n",
       "      <td>NaN</td>\n",
       "      <td>NaN</td>\n",
       "      <td>NaN</td>\n",
       "      <td>1.0</td>\n",
       "      <td>NaN</td>\n",
       "      <td>NaN</td>\n",
       "      <td>NaN</td>\n",
       "      <td>NaN</td>\n",
       "      <td>NaN</td>\n",
       "    </tr>\n",
       "  </tbody>\n",
       "</table>\n",
       "</div>"
      ],
      "text/plain": [
       "   Q48_満足_評価                              Q48_理由  Q48_影響_目標達成度の向上  \\\n",
       "0        1.0  中間評価のタイミングは適切で、委員からも適切なコメントをいただいた。              1.0   \n",
       "1        1.0       中間評価の目標値は達成したので、良いコメントがもらえ満足。              1.0   \n",
       "2        2.0                    困難な状況を適性に評価いただいた              1.0   \n",
       "\n",
       "   Q48_影響_予期せぬ成果が得られた  Q48_影響_競争優位性の強化  Q48_影響_殆どなかった  Q48_影響_その他 Q48_影響_記述欄  \\\n",
       "0                 NaN              NaN            NaN         NaN        NaN   \n",
       "1                 NaN              NaN            NaN         NaN        NaN   \n",
       "2                 NaN              NaN            NaN         NaN        NaN   \n",
       "\n",
       "   Q48_指摘_技術の進展予測  Q48_指摘_計画の変更・追加  Q48_指摘_技術・コスト課題克服アイディア  \\\n",
       "0             NaN              NaN                     NaN   \n",
       "1             NaN              NaN                     NaN   \n",
       "2             NaN              NaN                     1.0   \n",
       "\n",
       "   Q48_指摘_メカニズムの解明のアイディア・ヒント  Q48_指摘_周辺技術動向の情報  Q48_指摘_中止の勧告  Q48_指摘_その他  \\\n",
       "0                        NaN               1.0           NaN         NaN   \n",
       "1                        1.0               1.0           NaN         NaN   \n",
       "2                        NaN               NaN           NaN         NaN   \n",
       "\n",
       "  Q48_指摘_記述欄  \n",
       "0        NaN  \n",
       "1        NaN  \n",
       "2        NaN  "
      ]
     },
     "execution_count": 22,
     "metadata": {},
     "output_type": "execute_result"
    }
   ],
   "source": [
    "data.ix[:,data.columns.str.contains(u'Q48_')].head(3)"
   ]
  },
  {
   "cell_type": "code",
   "execution_count": 23,
   "metadata": {
    "collapsed": true
   },
   "outputs": [],
   "source": [
    "Q48_open_part = pd.get_dummies(data[u'Q48_満足_評価'],prefix=u'Q48_満足_評価')"
   ]
  },
  {
   "cell_type": "code",
   "execution_count": 24,
   "metadata": {
    "collapsed": false
   },
   "outputs": [
    {
     "data": {
      "text/plain": [
       "Q48_満足_評価_1.0    41.0\n",
       "Q48_満足_評価_2.0    71.0\n",
       "Q48_満足_評価_3.0    25.0\n",
       "Q48_満足_評価_4.0     5.0\n",
       "Q48_満足_評価_5.0     3.0\n",
       "Q48_満足_評価_6.0    13.0\n",
       "dtype: float64"
      ]
     },
     "execution_count": 24,
     "metadata": {},
     "output_type": "execute_result"
    }
   ],
   "source": [
    "Q48_open_part.sum()"
   ]
  },
  {
   "cell_type": "code",
   "execution_count": 25,
   "metadata": {
    "collapsed": false
   },
   "outputs": [],
   "source": [
    "Q48_open_part2  = data.ix[:,data.columns.str.contains(u'Q48_影響')].ix[:,:4].fillna(0)"
   ]
  },
  {
   "cell_type": "code",
   "execution_count": 26,
   "metadata": {
    "collapsed": false
   },
   "outputs": [],
   "source": [
    "Q48_open = pd.concat([Q48_open_part,Q48_open_part2],axis=1)"
   ]
  },
  {
   "cell_type": "code",
   "execution_count": 27,
   "metadata": {
    "collapsed": false
   },
   "outputs": [
    {
     "data": {
      "text/html": [
       "<div>\n",
       "<table border=\"1\" class=\"dataframe\">\n",
       "  <thead>\n",
       "    <tr style=\"text-align: right;\">\n",
       "      <th></th>\n",
       "      <th>Q48_満足_評価_1.0</th>\n",
       "      <th>Q48_満足_評価_2.0</th>\n",
       "      <th>Q48_満足_評価_3.0</th>\n",
       "      <th>Q48_満足_評価_4.0</th>\n",
       "      <th>Q48_満足_評価_5.0</th>\n",
       "      <th>Q48_満足_評価_6.0</th>\n",
       "      <th>Q48_影響_目標達成度の向上</th>\n",
       "      <th>Q48_影響_予期せぬ成果が得られた</th>\n",
       "      <th>Q48_影響_競争優位性の強化</th>\n",
       "      <th>Q48_影響_殆どなかった</th>\n",
       "    </tr>\n",
       "  </thead>\n",
       "  <tbody>\n",
       "    <tr>\n",
       "      <th>0</th>\n",
       "      <td>1.0</td>\n",
       "      <td>0.0</td>\n",
       "      <td>0.0</td>\n",
       "      <td>0.0</td>\n",
       "      <td>0.0</td>\n",
       "      <td>0.0</td>\n",
       "      <td>1.0</td>\n",
       "      <td>0.0</td>\n",
       "      <td>0.0</td>\n",
       "      <td>0.0</td>\n",
       "    </tr>\n",
       "    <tr>\n",
       "      <th>1</th>\n",
       "      <td>1.0</td>\n",
       "      <td>0.0</td>\n",
       "      <td>0.0</td>\n",
       "      <td>0.0</td>\n",
       "      <td>0.0</td>\n",
       "      <td>0.0</td>\n",
       "      <td>1.0</td>\n",
       "      <td>0.0</td>\n",
       "      <td>0.0</td>\n",
       "      <td>0.0</td>\n",
       "    </tr>\n",
       "    <tr>\n",
       "      <th>2</th>\n",
       "      <td>0.0</td>\n",
       "      <td>1.0</td>\n",
       "      <td>0.0</td>\n",
       "      <td>0.0</td>\n",
       "      <td>0.0</td>\n",
       "      <td>0.0</td>\n",
       "      <td>1.0</td>\n",
       "      <td>0.0</td>\n",
       "      <td>0.0</td>\n",
       "      <td>0.0</td>\n",
       "    </tr>\n",
       "  </tbody>\n",
       "</table>\n",
       "</div>"
      ],
      "text/plain": [
       "   Q48_満足_評価_1.0  Q48_満足_評価_2.0  Q48_満足_評価_3.0  Q48_満足_評価_4.0  Q48_満足_評価_5.0  \\\n",
       "0            1.0            0.0            0.0            0.0            0.0   \n",
       "1            1.0            0.0            0.0            0.0            0.0   \n",
       "2            0.0            1.0            0.0            0.0            0.0   \n",
       "\n",
       "   Q48_満足_評価_6.0  Q48_影響_目標達成度の向上  Q48_影響_予期せぬ成果が得られた  Q48_影響_競争優位性の強化  \\\n",
       "0            0.0              1.0                 0.0              0.0   \n",
       "1            0.0              1.0                 0.0              0.0   \n",
       "2            0.0              1.0                 0.0              0.0   \n",
       "\n",
       "   Q48_影響_殆どなかった  \n",
       "0            0.0  \n",
       "1            0.0  \n",
       "2            0.0  "
      ]
     },
     "execution_count": 27,
     "metadata": {},
     "output_type": "execute_result"
    }
   ],
   "source": [
    "Q48_open.head(3)"
   ]
  },
  {
   "cell_type": "code",
   "execution_count": 28,
   "metadata": {
    "collapsed": false,
    "scrolled": true
   },
   "outputs": [
    {
     "data": {
      "text/html": [
       "<div>\n",
       "<table border=\"1\" class=\"dataframe\">\n",
       "  <thead>\n",
       "    <tr style=\"text-align: right;\">\n",
       "      <th></th>\n",
       "      <th>Q49_満足_評価</th>\n",
       "      <th>Q49_理由</th>\n",
       "      <th>Q49_指摘_製品化アイディア</th>\n",
       "      <th>Q49_指摘_技術転用等の波及効果</th>\n",
       "      <th>Q49_指摘_技術・コスト課題克服のアイディア</th>\n",
       "      <th>Q49_指摘_生産工程上の課題および解決法</th>\n",
       "      <th>Q49_指摘_周辺技術動向の情報</th>\n",
       "      <th>Q49_指摘_その他</th>\n",
       "      <th>Q49_指摘_記述欄</th>\n",
       "    </tr>\n",
       "  </thead>\n",
       "  <tbody>\n",
       "    <tr>\n",
       "      <th>0</th>\n",
       "      <td>NaN</td>\n",
       "      <td>事後評価委員会は9月21日予定で、今後実施予定のため未実施。</td>\n",
       "      <td>NaN</td>\n",
       "      <td>NaN</td>\n",
       "      <td>NaN</td>\n",
       "      <td>NaN</td>\n",
       "      <td>NaN</td>\n",
       "      <td>1.0</td>\n",
       "      <td>事後評価委員会は9月21日予定で、今後実施予定のため未実施。</td>\n",
       "    </tr>\n",
       "    <tr>\n",
       "      <th>1</th>\n",
       "      <td>1.0</td>\n",
       "      <td>事後評価は未だ受けていませんが、目標達成したため満足しています。</td>\n",
       "      <td>1.0</td>\n",
       "      <td>1.0</td>\n",
       "      <td>NaN</td>\n",
       "      <td>NaN</td>\n",
       "      <td>1.0</td>\n",
       "      <td>NaN</td>\n",
       "      <td>NaN</td>\n",
       "    </tr>\n",
       "    <tr>\n",
       "      <th>2</th>\n",
       "      <td>NaN</td>\n",
       "      <td>NaN</td>\n",
       "      <td>NaN</td>\n",
       "      <td>NaN</td>\n",
       "      <td>NaN</td>\n",
       "      <td>NaN</td>\n",
       "      <td>NaN</td>\n",
       "      <td>NaN</td>\n",
       "      <td>NaN</td>\n",
       "    </tr>\n",
       "    <tr>\n",
       "      <th>3</th>\n",
       "      <td>NaN</td>\n",
       "      <td>まだ、事後評価は実施していません（2012年9月実施予定）</td>\n",
       "      <td>NaN</td>\n",
       "      <td>NaN</td>\n",
       "      <td>NaN</td>\n",
       "      <td>NaN</td>\n",
       "      <td>NaN</td>\n",
       "      <td>NaN</td>\n",
       "      <td>NaN</td>\n",
       "    </tr>\n",
       "    <tr>\n",
       "      <th>4</th>\n",
       "      <td>1.0</td>\n",
       "      <td>委員選定、評価のタイミング、評価資料の準備のいずれについても適切だったから。</td>\n",
       "      <td>NaN</td>\n",
       "      <td>NaN</td>\n",
       "      <td>1.0</td>\n",
       "      <td>NaN</td>\n",
       "      <td>1.0</td>\n",
       "      <td>NaN</td>\n",
       "      <td>NaN</td>\n",
       "    </tr>\n",
       "    <tr>\n",
       "      <th>5</th>\n",
       "      <td>NaN</td>\n",
       "      <td>NaN</td>\n",
       "      <td>NaN</td>\n",
       "      <td>NaN</td>\n",
       "      <td>NaN</td>\n",
       "      <td>NaN</td>\n",
       "      <td>NaN</td>\n",
       "      <td>NaN</td>\n",
       "      <td>NaN</td>\n",
       "    </tr>\n",
       "    <tr>\n",
       "      <th>6</th>\n",
       "      <td>NaN</td>\n",
       "      <td>まだ事後評価を実施していない</td>\n",
       "      <td>NaN</td>\n",
       "      <td>NaN</td>\n",
       "      <td>NaN</td>\n",
       "      <td>NaN</td>\n",
       "      <td>NaN</td>\n",
       "      <td>NaN</td>\n",
       "      <td>NaN</td>\n",
       "    </tr>\n",
       "    <tr>\n",
       "      <th>7</th>\n",
       "      <td>2.0</td>\n",
       "      <td>行ってきた事業に対して、高評価をいただいた。</td>\n",
       "      <td>NaN</td>\n",
       "      <td>NaN</td>\n",
       "      <td>1.0</td>\n",
       "      <td>NaN</td>\n",
       "      <td>NaN</td>\n",
       "      <td>NaN</td>\n",
       "      <td>NaN</td>\n",
       "    </tr>\n",
       "    <tr>\n",
       "      <th>8</th>\n",
       "      <td>2.0</td>\n",
       "      <td>行ってきた事業に対して、高評価をいただいた。</td>\n",
       "      <td>NaN</td>\n",
       "      <td>NaN</td>\n",
       "      <td>1.0</td>\n",
       "      <td>NaN</td>\n",
       "      <td>NaN</td>\n",
       "      <td>NaN</td>\n",
       "      <td>NaN</td>\n",
       "    </tr>\n",
       "    <tr>\n",
       "      <th>9</th>\n",
       "      <td>NaN</td>\n",
       "      <td>NaN</td>\n",
       "      <td>NaN</td>\n",
       "      <td>NaN</td>\n",
       "      <td>NaN</td>\n",
       "      <td>NaN</td>\n",
       "      <td>NaN</td>\n",
       "      <td>NaN</td>\n",
       "      <td>NaN</td>\n",
       "    </tr>\n",
       "    <tr>\n",
       "      <th>10</th>\n",
       "      <td>NaN</td>\n",
       "      <td>事後評価はまだ受けていない。</td>\n",
       "      <td>NaN</td>\n",
       "      <td>NaN</td>\n",
       "      <td>NaN</td>\n",
       "      <td>NaN</td>\n",
       "      <td>NaN</td>\n",
       "      <td>NaN</td>\n",
       "      <td>NaN</td>\n",
       "    </tr>\n",
       "    <tr>\n",
       "      <th>11</th>\n",
       "      <td>3.0</td>\n",
       "      <td>NaN</td>\n",
       "      <td>NaN</td>\n",
       "      <td>NaN</td>\n",
       "      <td>1.0</td>\n",
       "      <td>NaN</td>\n",
       "      <td>NaN</td>\n",
       "      <td>NaN</td>\n",
       "      <td>NaN</td>\n",
       "    </tr>\n",
       "    <tr>\n",
       "      <th>12</th>\n",
       "      <td>NaN</td>\n",
       "      <td>NaN</td>\n",
       "      <td>NaN</td>\n",
       "      <td>NaN</td>\n",
       "      <td>NaN</td>\n",
       "      <td>NaN</td>\n",
       "      <td>NaN</td>\n",
       "      <td>NaN</td>\n",
       "      <td>NaN</td>\n",
       "    </tr>\n",
       "    <tr>\n",
       "      <th>13</th>\n",
       "      <td>2.0</td>\n",
       "      <td>成果を公平に客観的に評価。</td>\n",
       "      <td>NaN</td>\n",
       "      <td>NaN</td>\n",
       "      <td>1.0</td>\n",
       "      <td>NaN</td>\n",
       "      <td>NaN</td>\n",
       "      <td>NaN</td>\n",
       "      <td>NaN</td>\n",
       "    </tr>\n",
       "    <tr>\n",
       "      <th>14</th>\n",
       "      <td>NaN</td>\n",
       "      <td>上記事情にて、中間評価以降ﾌﾟﾛｼﾞｪｸﾄに不参加</td>\n",
       "      <td>NaN</td>\n",
       "      <td>NaN</td>\n",
       "      <td>NaN</td>\n",
       "      <td>NaN</td>\n",
       "      <td>NaN</td>\n",
       "      <td>1.0</td>\n",
       "      <td>上記事情にて、中間評価以降ﾌﾟﾛｼﾞｪｸﾄに不参加</td>\n",
       "    </tr>\n",
       "    <tr>\n",
       "      <th>15</th>\n",
       "      <td>2.0</td>\n",
       "      <td>特になし</td>\n",
       "      <td>NaN</td>\n",
       "      <td>NaN</td>\n",
       "      <td>NaN</td>\n",
       "      <td>NaN</td>\n",
       "      <td>NaN</td>\n",
       "      <td>NaN</td>\n",
       "      <td>NaN</td>\n",
       "    </tr>\n",
       "    <tr>\n",
       "      <th>16</th>\n",
       "      <td>NaN</td>\n",
       "      <td>NaN</td>\n",
       "      <td>NaN</td>\n",
       "      <td>NaN</td>\n",
       "      <td>NaN</td>\n",
       "      <td>NaN</td>\n",
       "      <td>NaN</td>\n",
       "      <td>NaN</td>\n",
       "      <td>NaN</td>\n",
       "    </tr>\n",
       "    <tr>\n",
       "      <th>17</th>\n",
       "      <td>NaN</td>\n",
       "      <td>NaN</td>\n",
       "      <td>NaN</td>\n",
       "      <td>NaN</td>\n",
       "      <td>NaN</td>\n",
       "      <td>NaN</td>\n",
       "      <td>NaN</td>\n",
       "      <td>NaN</td>\n",
       "      <td>NaN</td>\n",
       "    </tr>\n",
       "    <tr>\n",
       "      <th>18</th>\n",
       "      <td>NaN</td>\n",
       "      <td>１０月に実施のため、まだ受けていない。</td>\n",
       "      <td>NaN</td>\n",
       "      <td>NaN</td>\n",
       "      <td>NaN</td>\n",
       "      <td>NaN</td>\n",
       "      <td>NaN</td>\n",
       "      <td>NaN</td>\n",
       "      <td>NaN</td>\n",
       "    </tr>\n",
       "    <tr>\n",
       "      <th>19</th>\n",
       "      <td>2.0</td>\n",
       "      <td>評価試料の準備等にかなりの労力と時間を要するので（中間）成果報告書等を活用できる部分は合理化...</td>\n",
       "      <td>1.0</td>\n",
       "      <td>1.0</td>\n",
       "      <td>1.0</td>\n",
       "      <td>NaN</td>\n",
       "      <td>NaN</td>\n",
       "      <td>NaN</td>\n",
       "      <td>NaN</td>\n",
       "    </tr>\n",
       "    <tr>\n",
       "      <th>20</th>\n",
       "      <td>NaN</td>\n",
       "      <td>NaN</td>\n",
       "      <td>NaN</td>\n",
       "      <td>NaN</td>\n",
       "      <td>NaN</td>\n",
       "      <td>NaN</td>\n",
       "      <td>NaN</td>\n",
       "      <td>NaN</td>\n",
       "      <td>NaN</td>\n",
       "    </tr>\n",
       "    <tr>\n",
       "      <th>21</th>\n",
       "      <td>NaN</td>\n",
       "      <td>事後評価は未実施です</td>\n",
       "      <td>NaN</td>\n",
       "      <td>NaN</td>\n",
       "      <td>NaN</td>\n",
       "      <td>NaN</td>\n",
       "      <td>NaN</td>\n",
       "      <td>NaN</td>\n",
       "      <td>NaN</td>\n",
       "    </tr>\n",
       "    <tr>\n",
       "      <th>22</th>\n",
       "      <td>NaN</td>\n",
       "      <td>まだ実施されていません</td>\n",
       "      <td>NaN</td>\n",
       "      <td>NaN</td>\n",
       "      <td>NaN</td>\n",
       "      <td>NaN</td>\n",
       "      <td>NaN</td>\n",
       "      <td>NaN</td>\n",
       "      <td>NaN</td>\n",
       "    </tr>\n",
       "    <tr>\n",
       "      <th>23</th>\n",
       "      <td>2.0</td>\n",
       "      <td>これも前期同様、あらかじめ委員の観点をしらせていただきたい。</td>\n",
       "      <td>NaN</td>\n",
       "      <td>NaN</td>\n",
       "      <td>NaN</td>\n",
       "      <td>NaN</td>\n",
       "      <td>1.0</td>\n",
       "      <td>NaN</td>\n",
       "      <td>NaN</td>\n",
       "    </tr>\n",
       "    <tr>\n",
       "      <th>24</th>\n",
       "      <td>NaN</td>\n",
       "      <td>NaN</td>\n",
       "      <td>NaN</td>\n",
       "      <td>NaN</td>\n",
       "      <td>NaN</td>\n",
       "      <td>NaN</td>\n",
       "      <td>NaN</td>\n",
       "      <td>NaN</td>\n",
       "      <td>NaN</td>\n",
       "    </tr>\n",
       "    <tr>\n",
       "      <th>25</th>\n",
       "      <td>NaN</td>\n",
       "      <td>NaN</td>\n",
       "      <td>NaN</td>\n",
       "      <td>NaN</td>\n",
       "      <td>NaN</td>\n",
       "      <td>NaN</td>\n",
       "      <td>NaN</td>\n",
       "      <td>NaN</td>\n",
       "      <td>NaN</td>\n",
       "    </tr>\n",
       "    <tr>\n",
       "      <th>26</th>\n",
       "      <td>NaN</td>\n",
       "      <td>NaN</td>\n",
       "      <td>NaN</td>\n",
       "      <td>NaN</td>\n",
       "      <td>NaN</td>\n",
       "      <td>NaN</td>\n",
       "      <td>NaN</td>\n",
       "      <td>NaN</td>\n",
       "      <td>NaN</td>\n",
       "    </tr>\n",
       "    <tr>\n",
       "      <th>27</th>\n",
       "      <td>NaN</td>\n",
       "      <td>まだ受けていないのでコメントできません</td>\n",
       "      <td>NaN</td>\n",
       "      <td>1.0</td>\n",
       "      <td>NaN</td>\n",
       "      <td>NaN</td>\n",
       "      <td>1.0</td>\n",
       "      <td>NaN</td>\n",
       "      <td>NaN</td>\n",
       "    </tr>\n",
       "    <tr>\n",
       "      <th>28</th>\n",
       "      <td>NaN</td>\n",
       "      <td>事後評価は特になかった</td>\n",
       "      <td>1.0</td>\n",
       "      <td>NaN</td>\n",
       "      <td>1.0</td>\n",
       "      <td>NaN</td>\n",
       "      <td>1.0</td>\n",
       "      <td>NaN</td>\n",
       "      <td>NaN</td>\n",
       "    </tr>\n",
       "    <tr>\n",
       "      <th>29</th>\n",
       "      <td>1.0</td>\n",
       "      <td>NaN</td>\n",
       "      <td>NaN</td>\n",
       "      <td>1.0</td>\n",
       "      <td>NaN</td>\n",
       "      <td>NaN</td>\n",
       "      <td>1.0</td>\n",
       "      <td>NaN</td>\n",
       "      <td>NaN</td>\n",
       "    </tr>\n",
       "    <tr>\n",
       "      <th>...</th>\n",
       "      <td>...</td>\n",
       "      <td>...</td>\n",
       "      <td>...</td>\n",
       "      <td>...</td>\n",
       "      <td>...</td>\n",
       "      <td>...</td>\n",
       "      <td>...</td>\n",
       "      <td>...</td>\n",
       "      <td>...</td>\n",
       "    </tr>\n",
       "    <tr>\n",
       "      <th>145</th>\n",
       "      <td>NaN</td>\n",
       "      <td>NaN</td>\n",
       "      <td>NaN</td>\n",
       "      <td>NaN</td>\n",
       "      <td>NaN</td>\n",
       "      <td>NaN</td>\n",
       "      <td>NaN</td>\n",
       "      <td>NaN</td>\n",
       "      <td>NaN</td>\n",
       "    </tr>\n",
       "    <tr>\n",
       "      <th>146</th>\n",
       "      <td>NaN</td>\n",
       "      <td>NaN</td>\n",
       "      <td>NaN</td>\n",
       "      <td>NaN</td>\n",
       "      <td>NaN</td>\n",
       "      <td>NaN</td>\n",
       "      <td>NaN</td>\n",
       "      <td>NaN</td>\n",
       "      <td>NaN</td>\n",
       "    </tr>\n",
       "    <tr>\n",
       "      <th>147</th>\n",
       "      <td>2.0</td>\n",
       "      <td>NaN</td>\n",
       "      <td>NaN</td>\n",
       "      <td>1.0</td>\n",
       "      <td>1.0</td>\n",
       "      <td>NaN</td>\n",
       "      <td>1.0</td>\n",
       "      <td>NaN</td>\n",
       "      <td>NaN</td>\n",
       "    </tr>\n",
       "    <tr>\n",
       "      <th>148</th>\n",
       "      <td>NaN</td>\n",
       "      <td>事後評価をまだ実施していない</td>\n",
       "      <td>NaN</td>\n",
       "      <td>NaN</td>\n",
       "      <td>NaN</td>\n",
       "      <td>NaN</td>\n",
       "      <td>NaN</td>\n",
       "      <td>NaN</td>\n",
       "      <td>NaN</td>\n",
       "    </tr>\n",
       "    <tr>\n",
       "      <th>149</th>\n",
       "      <td>3.0</td>\n",
       "      <td>PJ途中で中断決定された</td>\n",
       "      <td>NaN</td>\n",
       "      <td>NaN</td>\n",
       "      <td>NaN</td>\n",
       "      <td>NaN</td>\n",
       "      <td>NaN</td>\n",
       "      <td>1.0</td>\n",
       "      <td>PJ中断のため、事後評価の指摘はヒアリングできていない</td>\n",
       "    </tr>\n",
       "    <tr>\n",
       "      <th>150</th>\n",
       "      <td>NaN</td>\n",
       "      <td>実施前のため、不明</td>\n",
       "      <td>NaN</td>\n",
       "      <td>NaN</td>\n",
       "      <td>NaN</td>\n",
       "      <td>NaN</td>\n",
       "      <td>NaN</td>\n",
       "      <td>1.0</td>\n",
       "      <td>実施前のため、不明</td>\n",
       "    </tr>\n",
       "    <tr>\n",
       "      <th>151</th>\n",
       "      <td>NaN</td>\n",
       "      <td>NaN</td>\n",
       "      <td>NaN</td>\n",
       "      <td>NaN</td>\n",
       "      <td>NaN</td>\n",
       "      <td>NaN</td>\n",
       "      <td>NaN</td>\n",
       "      <td>NaN</td>\n",
       "      <td>NaN</td>\n",
       "    </tr>\n",
       "    <tr>\n",
       "      <th>152</th>\n",
       "      <td>NaN</td>\n",
       "      <td>NaN</td>\n",
       "      <td>NaN</td>\n",
       "      <td>NaN</td>\n",
       "      <td>NaN</td>\n",
       "      <td>NaN</td>\n",
       "      <td>NaN</td>\n",
       "      <td>NaN</td>\n",
       "      <td>NaN</td>\n",
       "    </tr>\n",
       "    <tr>\n",
       "      <th>153</th>\n",
       "      <td>NaN</td>\n",
       "      <td>NaN</td>\n",
       "      <td>NaN</td>\n",
       "      <td>NaN</td>\n",
       "      <td>NaN</td>\n",
       "      <td>NaN</td>\n",
       "      <td>NaN</td>\n",
       "      <td>NaN</td>\n",
       "      <td>NaN</td>\n",
       "    </tr>\n",
       "    <tr>\n",
       "      <th>154</th>\n",
       "      <td>NaN</td>\n",
       "      <td>現時点で事業評価は未実施</td>\n",
       "      <td>NaN</td>\n",
       "      <td>NaN</td>\n",
       "      <td>NaN</td>\n",
       "      <td>NaN</td>\n",
       "      <td>NaN</td>\n",
       "      <td>NaN</td>\n",
       "      <td>NaN</td>\n",
       "    </tr>\n",
       "    <tr>\n",
       "      <th>155</th>\n",
       "      <td>NaN</td>\n",
       "      <td>NaN</td>\n",
       "      <td>NaN</td>\n",
       "      <td>NaN</td>\n",
       "      <td>NaN</td>\n",
       "      <td>NaN</td>\n",
       "      <td>NaN</td>\n",
       "      <td>NaN</td>\n",
       "      <td>NaN</td>\n",
       "    </tr>\n",
       "    <tr>\n",
       "      <th>156</th>\n",
       "      <td>NaN</td>\n",
       "      <td>事後評価は未だ。</td>\n",
       "      <td>NaN</td>\n",
       "      <td>NaN</td>\n",
       "      <td>NaN</td>\n",
       "      <td>NaN</td>\n",
       "      <td>NaN</td>\n",
       "      <td>NaN</td>\n",
       "      <td>NaN</td>\n",
       "    </tr>\n",
       "    <tr>\n",
       "      <th>157</th>\n",
       "      <td>2.0</td>\n",
       "      <td>NaN</td>\n",
       "      <td>NaN</td>\n",
       "      <td>NaN</td>\n",
       "      <td>NaN</td>\n",
       "      <td>NaN</td>\n",
       "      <td>NaN</td>\n",
       "      <td>NaN</td>\n",
       "      <td>NaN</td>\n",
       "    </tr>\n",
       "    <tr>\n",
       "      <th>158</th>\n",
       "      <td>NaN</td>\n",
       "      <td>NaN</td>\n",
       "      <td>NaN</td>\n",
       "      <td>NaN</td>\n",
       "      <td>NaN</td>\n",
       "      <td>NaN</td>\n",
       "      <td>NaN</td>\n",
       "      <td>NaN</td>\n",
       "      <td>NaN</td>\n",
       "    </tr>\n",
       "    <tr>\n",
       "      <th>159</th>\n",
       "      <td>2.0</td>\n",
       "      <td>事後評価はまだ実施されていませんので、準備やタイミングに関しての回答です。</td>\n",
       "      <td>NaN</td>\n",
       "      <td>1.0</td>\n",
       "      <td>NaN</td>\n",
       "      <td>NaN</td>\n",
       "      <td>NaN</td>\n",
       "      <td>NaN</td>\n",
       "      <td>NaN</td>\n",
       "    </tr>\n",
       "    <tr>\n",
       "      <th>160</th>\n",
       "      <td>NaN</td>\n",
       "      <td>NaN</td>\n",
       "      <td>NaN</td>\n",
       "      <td>NaN</td>\n",
       "      <td>NaN</td>\n",
       "      <td>NaN</td>\n",
       "      <td>NaN</td>\n",
       "      <td>NaN</td>\n",
       "      <td>NaN</td>\n",
       "    </tr>\n",
       "    <tr>\n",
       "      <th>161</th>\n",
       "      <td>NaN</td>\n",
       "      <td>現時点で事後評価は終了していません。</td>\n",
       "      <td>NaN</td>\n",
       "      <td>NaN</td>\n",
       "      <td>NaN</td>\n",
       "      <td>NaN</td>\n",
       "      <td>NaN</td>\n",
       "      <td>1.0</td>\n",
       "      <td>現時点で事後評価は終了していません。</td>\n",
       "    </tr>\n",
       "    <tr>\n",
       "      <th>162</th>\n",
       "      <td>2.0</td>\n",
       "      <td>NaN</td>\n",
       "      <td>NaN</td>\n",
       "      <td>NaN</td>\n",
       "      <td>NaN</td>\n",
       "      <td>NaN</td>\n",
       "      <td>NaN</td>\n",
       "      <td>NaN</td>\n",
       "      <td>NaN</td>\n",
       "    </tr>\n",
       "    <tr>\n",
       "      <th>163</th>\n",
       "      <td>NaN</td>\n",
       "      <td>NaN</td>\n",
       "      <td>NaN</td>\n",
       "      <td>NaN</td>\n",
       "      <td>NaN</td>\n",
       "      <td>NaN</td>\n",
       "      <td>NaN</td>\n",
       "      <td>NaN</td>\n",
       "      <td>NaN</td>\n",
       "    </tr>\n",
       "    <tr>\n",
       "      <th>164</th>\n",
       "      <td>NaN</td>\n",
       "      <td>事後評価は1ヶ月後に実施予定であるため、現時点では回答できない。</td>\n",
       "      <td>NaN</td>\n",
       "      <td>NaN</td>\n",
       "      <td>NaN</td>\n",
       "      <td>NaN</td>\n",
       "      <td>NaN</td>\n",
       "      <td>NaN</td>\n",
       "      <td>NaN</td>\n",
       "    </tr>\n",
       "    <tr>\n",
       "      <th>165</th>\n",
       "      <td>NaN</td>\n",
       "      <td>NaN</td>\n",
       "      <td>NaN</td>\n",
       "      <td>NaN</td>\n",
       "      <td>NaN</td>\n",
       "      <td>NaN</td>\n",
       "      <td>NaN</td>\n",
       "      <td>NaN</td>\n",
       "      <td>NaN</td>\n",
       "    </tr>\n",
       "    <tr>\n",
       "      <th>166</th>\n",
       "      <td>2.0</td>\n",
       "      <td>当該プロジェクトは、技術的にCASMATⅠ、Ⅱからの継続性があるため、事後評価対象としてCA...</td>\n",
       "      <td>NaN</td>\n",
       "      <td>NaN</td>\n",
       "      <td>NaN</td>\n",
       "      <td>NaN</td>\n",
       "      <td>1.0</td>\n",
       "      <td>NaN</td>\n",
       "      <td>NaN</td>\n",
       "    </tr>\n",
       "    <tr>\n",
       "      <th>167</th>\n",
       "      <td>1.0</td>\n",
       "      <td>事後評価分科会での質疑応答で好意的に感じたため。</td>\n",
       "      <td>NaN</td>\n",
       "      <td>NaN</td>\n",
       "      <td>NaN</td>\n",
       "      <td>NaN</td>\n",
       "      <td>NaN</td>\n",
       "      <td>NaN</td>\n",
       "      <td>NaN</td>\n",
       "    </tr>\n",
       "    <tr>\n",
       "      <th>168</th>\n",
       "      <td>2.0</td>\n",
       "      <td>NaN</td>\n",
       "      <td>NaN</td>\n",
       "      <td>NaN</td>\n",
       "      <td>NaN</td>\n",
       "      <td>NaN</td>\n",
       "      <td>NaN</td>\n",
       "      <td>1.0</td>\n",
       "      <td>特になし</td>\n",
       "    </tr>\n",
       "    <tr>\n",
       "      <th>169</th>\n",
       "      <td>2.0</td>\n",
       "      <td>専門性の高い委員が選出され妥当な判断が期待される一方で、３期に渡る本プロジェクトの内容を良く...</td>\n",
       "      <td>NaN</td>\n",
       "      <td>NaN</td>\n",
       "      <td>1.0</td>\n",
       "      <td>NaN</td>\n",
       "      <td>1.0</td>\n",
       "      <td>NaN</td>\n",
       "      <td>NaN</td>\n",
       "    </tr>\n",
       "    <tr>\n",
       "      <th>170</th>\n",
       "      <td>2.0</td>\n",
       "      <td>事後評価分科会での評価委員メンバの質問が適切であった。</td>\n",
       "      <td>NaN</td>\n",
       "      <td>NaN</td>\n",
       "      <td>NaN</td>\n",
       "      <td>NaN</td>\n",
       "      <td>NaN</td>\n",
       "      <td>1.0</td>\n",
       "      <td>特にありません。</td>\n",
       "    </tr>\n",
       "    <tr>\n",
       "      <th>171</th>\n",
       "      <td>2.0</td>\n",
       "      <td>まだ評価報告をいただいておりませんので、暫定的に80点としました。</td>\n",
       "      <td>NaN</td>\n",
       "      <td>NaN</td>\n",
       "      <td>NaN</td>\n",
       "      <td>NaN</td>\n",
       "      <td>NaN</td>\n",
       "      <td>NaN</td>\n",
       "      <td>NaN</td>\n",
       "    </tr>\n",
       "    <tr>\n",
       "      <th>172</th>\n",
       "      <td>1.0</td>\n",
       "      <td>ＰＪ成果を客観的に評価していただいたため。</td>\n",
       "      <td>NaN</td>\n",
       "      <td>NaN</td>\n",
       "      <td>NaN</td>\n",
       "      <td>NaN</td>\n",
       "      <td>NaN</td>\n",
       "      <td>NaN</td>\n",
       "      <td>NaN</td>\n",
       "    </tr>\n",
       "    <tr>\n",
       "      <th>173</th>\n",
       "      <td>2.0</td>\n",
       "      <td>NaN</td>\n",
       "      <td>NaN</td>\n",
       "      <td>NaN</td>\n",
       "      <td>NaN</td>\n",
       "      <td>NaN</td>\n",
       "      <td>NaN</td>\n",
       "      <td>NaN</td>\n",
       "      <td>NaN</td>\n",
       "    </tr>\n",
       "    <tr>\n",
       "      <th>174</th>\n",
       "      <td>1.0</td>\n",
       "      <td>一部システムの検討を完了することが出来た。</td>\n",
       "      <td>NaN</td>\n",
       "      <td>NaN</td>\n",
       "      <td>NaN</td>\n",
       "      <td>NaN</td>\n",
       "      <td>1.0</td>\n",
       "      <td>NaN</td>\n",
       "      <td>NaN</td>\n",
       "    </tr>\n",
       "  </tbody>\n",
       "</table>\n",
       "<p>175 rows × 9 columns</p>\n",
       "</div>"
      ],
      "text/plain": [
       "     Q49_満足_評価                                             Q49_理由  \\\n",
       "0          NaN                     事後評価委員会は9月21日予定で、今後実施予定のため未実施。   \n",
       "1          1.0                   事後評価は未だ受けていませんが、目標達成したため満足しています。   \n",
       "2          NaN                                                NaN   \n",
       "3          NaN                      まだ、事後評価は実施していません（2012年9月実施予定）   \n",
       "4          1.0             委員選定、評価のタイミング、評価資料の準備のいずれについても適切だったから。   \n",
       "5          NaN                                                NaN   \n",
       "6          NaN                                     まだ事後評価を実施していない   \n",
       "7          2.0                             行ってきた事業に対して、高評価をいただいた。   \n",
       "8          2.0                             行ってきた事業に対して、高評価をいただいた。   \n",
       "9          NaN                                                NaN   \n",
       "10         NaN                                     事後評価はまだ受けていない。   \n",
       "11         3.0                                                NaN   \n",
       "12         NaN                                                NaN   \n",
       "13         2.0                                      成果を公平に客観的に評価。   \n",
       "14         NaN                          上記事情にて、中間評価以降ﾌﾟﾛｼﾞｪｸﾄに不参加   \n",
       "15         2.0                                               特になし   \n",
       "16         NaN                                                NaN   \n",
       "17         NaN                                                NaN   \n",
       "18         NaN                                １０月に実施のため、まだ受けていない。   \n",
       "19         2.0  評価試料の準備等にかなりの労力と時間を要するので（中間）成果報告書等を活用できる部分は合理化...   \n",
       "20         NaN                                                NaN   \n",
       "21         NaN                                         事後評価は未実施です   \n",
       "22         NaN                                        まだ実施されていません   \n",
       "23         2.0                     これも前期同様、あらかじめ委員の観点をしらせていただきたい。   \n",
       "24         NaN                                                NaN   \n",
       "25         NaN                                                NaN   \n",
       "26         NaN                                                NaN   \n",
       "27         NaN                                まだ受けていないのでコメントできません   \n",
       "28         NaN                                        事後評価は特になかった   \n",
       "29         1.0                                                NaN   \n",
       "..         ...                                                ...   \n",
       "145        NaN                                                NaN   \n",
       "146        NaN                                                NaN   \n",
       "147        2.0                                                NaN   \n",
       "148        NaN                                     事後評価をまだ実施していない   \n",
       "149        3.0                                       PJ途中で中断決定された   \n",
       "150        NaN                                          実施前のため、不明   \n",
       "151        NaN                                                NaN   \n",
       "152        NaN                                                NaN   \n",
       "153        NaN                                                NaN   \n",
       "154        NaN                                       現時点で事業評価は未実施   \n",
       "155        NaN                                                NaN   \n",
       "156        NaN                                           事後評価は未だ。   \n",
       "157        2.0                                                NaN   \n",
       "158        NaN                                                NaN   \n",
       "159        2.0              事後評価はまだ実施されていませんので、準備やタイミングに関しての回答です。   \n",
       "160        NaN                                                NaN   \n",
       "161        NaN                                 現時点で事後評価は終了していません。   \n",
       "162        2.0                                                NaN   \n",
       "163        NaN                                                NaN   \n",
       "164        NaN                   事後評価は1ヶ月後に実施予定であるため、現時点では回答できない。   \n",
       "165        NaN                                                NaN   \n",
       "166        2.0  当該プロジェクトは、技術的にCASMATⅠ、Ⅱからの継続性があるため、事後評価対象としてCA...   \n",
       "167        1.0                           事後評価分科会での質疑応答で好意的に感じたため。   \n",
       "168        2.0                                                NaN   \n",
       "169        2.0  専門性の高い委員が選出され妥当な判断が期待される一方で、３期に渡る本プロジェクトの内容を良く...   \n",
       "170        2.0                        事後評価分科会での評価委員メンバの質問が適切であった。   \n",
       "171        2.0                  まだ評価報告をいただいておりませんので、暫定的に80点としました。   \n",
       "172        1.0                              ＰＪ成果を客観的に評価していただいたため。   \n",
       "173        2.0                                                NaN   \n",
       "174        1.0                              一部システムの検討を完了することが出来た。   \n",
       "\n",
       "     Q49_指摘_製品化アイディア  Q49_指摘_技術転用等の波及効果  Q49_指摘_技術・コスト課題克服のアイディア  \\\n",
       "0                NaN                NaN                      NaN   \n",
       "1                1.0                1.0                      NaN   \n",
       "2                NaN                NaN                      NaN   \n",
       "3                NaN                NaN                      NaN   \n",
       "4                NaN                NaN                      1.0   \n",
       "5                NaN                NaN                      NaN   \n",
       "6                NaN                NaN                      NaN   \n",
       "7                NaN                NaN                      1.0   \n",
       "8                NaN                NaN                      1.0   \n",
       "9                NaN                NaN                      NaN   \n",
       "10               NaN                NaN                      NaN   \n",
       "11               NaN                NaN                      1.0   \n",
       "12               NaN                NaN                      NaN   \n",
       "13               NaN                NaN                      1.0   \n",
       "14               NaN                NaN                      NaN   \n",
       "15               NaN                NaN                      NaN   \n",
       "16               NaN                NaN                      NaN   \n",
       "17               NaN                NaN                      NaN   \n",
       "18               NaN                NaN                      NaN   \n",
       "19               1.0                1.0                      1.0   \n",
       "20               NaN                NaN                      NaN   \n",
       "21               NaN                NaN                      NaN   \n",
       "22               NaN                NaN                      NaN   \n",
       "23               NaN                NaN                      NaN   \n",
       "24               NaN                NaN                      NaN   \n",
       "25               NaN                NaN                      NaN   \n",
       "26               NaN                NaN                      NaN   \n",
       "27               NaN                1.0                      NaN   \n",
       "28               1.0                NaN                      1.0   \n",
       "29               NaN                1.0                      NaN   \n",
       "..               ...                ...                      ...   \n",
       "145              NaN                NaN                      NaN   \n",
       "146              NaN                NaN                      NaN   \n",
       "147              NaN                1.0                      1.0   \n",
       "148              NaN                NaN                      NaN   \n",
       "149              NaN                NaN                      NaN   \n",
       "150              NaN                NaN                      NaN   \n",
       "151              NaN                NaN                      NaN   \n",
       "152              NaN                NaN                      NaN   \n",
       "153              NaN                NaN                      NaN   \n",
       "154              NaN                NaN                      NaN   \n",
       "155              NaN                NaN                      NaN   \n",
       "156              NaN                NaN                      NaN   \n",
       "157              NaN                NaN                      NaN   \n",
       "158              NaN                NaN                      NaN   \n",
       "159              NaN                1.0                      NaN   \n",
       "160              NaN                NaN                      NaN   \n",
       "161              NaN                NaN                      NaN   \n",
       "162              NaN                NaN                      NaN   \n",
       "163              NaN                NaN                      NaN   \n",
       "164              NaN                NaN                      NaN   \n",
       "165              NaN                NaN                      NaN   \n",
       "166              NaN                NaN                      NaN   \n",
       "167              NaN                NaN                      NaN   \n",
       "168              NaN                NaN                      NaN   \n",
       "169              NaN                NaN                      1.0   \n",
       "170              NaN                NaN                      NaN   \n",
       "171              NaN                NaN                      NaN   \n",
       "172              NaN                NaN                      NaN   \n",
       "173              NaN                NaN                      NaN   \n",
       "174              NaN                NaN                      NaN   \n",
       "\n",
       "     Q49_指摘_生産工程上の課題および解決法  Q49_指摘_周辺技術動向の情報  Q49_指摘_その他  \\\n",
       "0                      NaN               NaN         1.0   \n",
       "1                      NaN               1.0         NaN   \n",
       "2                      NaN               NaN         NaN   \n",
       "3                      NaN               NaN         NaN   \n",
       "4                      NaN               1.0         NaN   \n",
       "5                      NaN               NaN         NaN   \n",
       "6                      NaN               NaN         NaN   \n",
       "7                      NaN               NaN         NaN   \n",
       "8                      NaN               NaN         NaN   \n",
       "9                      NaN               NaN         NaN   \n",
       "10                     NaN               NaN         NaN   \n",
       "11                     NaN               NaN         NaN   \n",
       "12                     NaN               NaN         NaN   \n",
       "13                     NaN               NaN         NaN   \n",
       "14                     NaN               NaN         1.0   \n",
       "15                     NaN               NaN         NaN   \n",
       "16                     NaN               NaN         NaN   \n",
       "17                     NaN               NaN         NaN   \n",
       "18                     NaN               NaN         NaN   \n",
       "19                     NaN               NaN         NaN   \n",
       "20                     NaN               NaN         NaN   \n",
       "21                     NaN               NaN         NaN   \n",
       "22                     NaN               NaN         NaN   \n",
       "23                     NaN               1.0         NaN   \n",
       "24                     NaN               NaN         NaN   \n",
       "25                     NaN               NaN         NaN   \n",
       "26                     NaN               NaN         NaN   \n",
       "27                     NaN               1.0         NaN   \n",
       "28                     NaN               1.0         NaN   \n",
       "29                     NaN               1.0         NaN   \n",
       "..                     ...               ...         ...   \n",
       "145                    NaN               NaN         NaN   \n",
       "146                    NaN               NaN         NaN   \n",
       "147                    NaN               1.0         NaN   \n",
       "148                    NaN               NaN         NaN   \n",
       "149                    NaN               NaN         1.0   \n",
       "150                    NaN               NaN         1.0   \n",
       "151                    NaN               NaN         NaN   \n",
       "152                    NaN               NaN         NaN   \n",
       "153                    NaN               NaN         NaN   \n",
       "154                    NaN               NaN         NaN   \n",
       "155                    NaN               NaN         NaN   \n",
       "156                    NaN               NaN         NaN   \n",
       "157                    NaN               NaN         NaN   \n",
       "158                    NaN               NaN         NaN   \n",
       "159                    NaN               NaN         NaN   \n",
       "160                    NaN               NaN         NaN   \n",
       "161                    NaN               NaN         1.0   \n",
       "162                    NaN               NaN         NaN   \n",
       "163                    NaN               NaN         NaN   \n",
       "164                    NaN               NaN         NaN   \n",
       "165                    NaN               NaN         NaN   \n",
       "166                    NaN               1.0         NaN   \n",
       "167                    NaN               NaN         NaN   \n",
       "168                    NaN               NaN         1.0   \n",
       "169                    NaN               1.0         NaN   \n",
       "170                    NaN               NaN         1.0   \n",
       "171                    NaN               NaN         NaN   \n",
       "172                    NaN               NaN         NaN   \n",
       "173                    NaN               NaN         NaN   \n",
       "174                    NaN               1.0         NaN   \n",
       "\n",
       "                         Q49_指摘_記述欄  \n",
       "0    事後評価委員会は9月21日予定で、今後実施予定のため未実施。  \n",
       "1                               NaN  \n",
       "2                               NaN  \n",
       "3                               NaN  \n",
       "4                               NaN  \n",
       "5                               NaN  \n",
       "6                               NaN  \n",
       "7                               NaN  \n",
       "8                               NaN  \n",
       "9                               NaN  \n",
       "10                              NaN  \n",
       "11                              NaN  \n",
       "12                              NaN  \n",
       "13                              NaN  \n",
       "14        上記事情にて、中間評価以降ﾌﾟﾛｼﾞｪｸﾄに不参加  \n",
       "15                              NaN  \n",
       "16                              NaN  \n",
       "17                              NaN  \n",
       "18                              NaN  \n",
       "19                              NaN  \n",
       "20                              NaN  \n",
       "21                              NaN  \n",
       "22                              NaN  \n",
       "23                              NaN  \n",
       "24                              NaN  \n",
       "25                              NaN  \n",
       "26                              NaN  \n",
       "27                              NaN  \n",
       "28                              NaN  \n",
       "29                              NaN  \n",
       "..                              ...  \n",
       "145                             NaN  \n",
       "146                             NaN  \n",
       "147                             NaN  \n",
       "148                             NaN  \n",
       "149     PJ中断のため、事後評価の指摘はヒアリングできていない  \n",
       "150                       実施前のため、不明  \n",
       "151                             NaN  \n",
       "152                             NaN  \n",
       "153                             NaN  \n",
       "154                             NaN  \n",
       "155                             NaN  \n",
       "156                             NaN  \n",
       "157                             NaN  \n",
       "158                             NaN  \n",
       "159                             NaN  \n",
       "160                             NaN  \n",
       "161              現時点で事後評価は終了していません。  \n",
       "162                             NaN  \n",
       "163                             NaN  \n",
       "164                             NaN  \n",
       "165                             NaN  \n",
       "166                             NaN  \n",
       "167                             NaN  \n",
       "168                            特になし  \n",
       "169                             NaN  \n",
       "170                        特にありません。  \n",
       "171                             NaN  \n",
       "172                             NaN  \n",
       "173                             NaN  \n",
       "174                             NaN  \n",
       "\n",
       "[175 rows x 9 columns]"
      ]
     },
     "execution_count": 28,
     "metadata": {},
     "output_type": "execute_result"
    }
   ],
   "source": [
    "data.ix[:,data.columns.str.contains(u'Q49_')]"
   ]
  },
  {
   "cell_type": "code",
   "execution_count": 29,
   "metadata": {
    "collapsed": true
   },
   "outputs": [],
   "source": [
    "Q49_open = data[u'Q49_満足_評価'].fillna(0)"
   ]
  },
  {
   "cell_type": "code",
   "execution_count": 30,
   "metadata": {
    "collapsed": false
   },
   "outputs": [
    {
     "data": {
      "text/plain": [
       "0    0.0\n",
       "1    1.0\n",
       "2    0.0\n",
       "Name: Q49_満足_評価, dtype: float64"
      ]
     },
     "execution_count": 30,
     "metadata": {},
     "output_type": "execute_result"
    }
   ],
   "source": [
    "Q49_open.head(3)"
   ]
  },
  {
   "cell_type": "code",
   "execution_count": 31,
   "metadata": {
    "collapsed": false
   },
   "outputs": [],
   "source": [
    "Q50_open = pd.get_dummies(data[u'Q50_評価'],prefix=u'Q50_評価')"
   ]
  },
  {
   "cell_type": "code",
   "execution_count": 32,
   "metadata": {
    "collapsed": false
   },
   "outputs": [
    {
     "data": {
      "text/html": [
       "<div>\n",
       "<table border=\"1\" class=\"dataframe\">\n",
       "  <thead>\n",
       "    <tr style=\"text-align: right;\">\n",
       "      <th></th>\n",
       "      <th>Q50_評価_1.0</th>\n",
       "      <th>Q50_評価_2.0</th>\n",
       "      <th>Q50_評価_3.0</th>\n",
       "      <th>Q50_評価_4.0</th>\n",
       "      <th>Q50_評価_5.0</th>\n",
       "    </tr>\n",
       "  </thead>\n",
       "  <tbody>\n",
       "    <tr>\n",
       "      <th>0</th>\n",
       "      <td>1.0</td>\n",
       "      <td>0.0</td>\n",
       "      <td>0.0</td>\n",
       "      <td>0.0</td>\n",
       "      <td>0.0</td>\n",
       "    </tr>\n",
       "    <tr>\n",
       "      <th>1</th>\n",
       "      <td>0.0</td>\n",
       "      <td>1.0</td>\n",
       "      <td>0.0</td>\n",
       "      <td>0.0</td>\n",
       "      <td>0.0</td>\n",
       "    </tr>\n",
       "    <tr>\n",
       "      <th>2</th>\n",
       "      <td>1.0</td>\n",
       "      <td>0.0</td>\n",
       "      <td>0.0</td>\n",
       "      <td>0.0</td>\n",
       "      <td>0.0</td>\n",
       "    </tr>\n",
       "  </tbody>\n",
       "</table>\n",
       "</div>"
      ],
      "text/plain": [
       "   Q50_評価_1.0  Q50_評価_2.0  Q50_評価_3.0  Q50_評価_4.0  Q50_評価_5.0\n",
       "0         1.0         0.0         0.0         0.0         0.0\n",
       "1         0.0         1.0         0.0         0.0         0.0\n",
       "2         1.0         0.0         0.0         0.0         0.0"
      ]
     },
     "execution_count": 32,
     "metadata": {},
     "output_type": "execute_result"
    }
   ],
   "source": [
    "Q50_open.head(3)"
   ]
  },
  {
   "cell_type": "code",
   "execution_count": 33,
   "metadata": {
    "collapsed": false
   },
   "outputs": [],
   "source": [
    "Q51_open = data.ix[:,data.columns.str.contains(u'Q51_欲しかったこと')].ix[:,:-2].fillna(0)"
   ]
  },
  {
   "cell_type": "code",
   "execution_count": 34,
   "metadata": {
    "collapsed": false
   },
   "outputs": [
    {
     "data": {
      "text/html": [
       "<div>\n",
       "<table border=\"1\" class=\"dataframe\">\n",
       "  <thead>\n",
       "    <tr style=\"text-align: right;\">\n",
       "      <th></th>\n",
       "      <th>Q51_欲しかったこと_実施計画書の内容精査（契約手続きに係る対応）</th>\n",
       "      <th>Q51_欲しかったこと_予算要求または予算配分に係る対応</th>\n",
       "      <th>Q51_欲しかったこと_中間・事後評価に係る対応</th>\n",
       "      <th>Q51_欲しかったこと_検査に係る対応</th>\n",
       "      <th>Q51_欲しかったこと_資産処分に係る対応</th>\n",
       "      <th>Q51_欲しかったこと_成果報告書の内容精査</th>\n",
       "      <th>Q51_欲しかったこと_各種提出書類に係る対応</th>\n",
       "      <th>Q51_欲しかったこと_他機関との利害調整</th>\n",
       "      <th>Q51_欲しかったこと_法規制に係る協議</th>\n",
       "      <th>Q51_欲しかったこと_事業化シナリオの方向性検討</th>\n",
       "      <th>Q51_欲しかったこと_研究開発の方向性検討</th>\n",
       "      <th>Q51_欲しかったこと_知的財産等の取り扱いに係る検討</th>\n",
       "      <th>Q51_欲しかったこと_戦略的な標準化取得に向けた検討</th>\n",
       "      <th>Q51_欲しかったこと_技術的なアドバイス（データ解析・解釈）</th>\n",
       "      <th>Q51_欲しかったこと_市場に関するアドバイス</th>\n",
       "      <th>Q51_欲しかったこと_委員会準備（データ・資料整理　プレゼン方法等）</th>\n",
       "      <th>Q51_欲しかったこと_宣伝・広報</th>\n",
       "    </tr>\n",
       "  </thead>\n",
       "  <tbody>\n",
       "    <tr>\n",
       "      <th>0</th>\n",
       "      <td>0.0</td>\n",
       "      <td>0.0</td>\n",
       "      <td>0.0</td>\n",
       "      <td>0.0</td>\n",
       "      <td>0.0</td>\n",
       "      <td>0.0</td>\n",
       "      <td>0.0</td>\n",
       "      <td>0.0</td>\n",
       "      <td>0.0</td>\n",
       "      <td>0.0</td>\n",
       "      <td>0.0</td>\n",
       "      <td>0.0</td>\n",
       "      <td>0.0</td>\n",
       "      <td>1.0</td>\n",
       "      <td>0.0</td>\n",
       "      <td>0.0</td>\n",
       "      <td>0.0</td>\n",
       "    </tr>\n",
       "    <tr>\n",
       "      <th>1</th>\n",
       "      <td>0.0</td>\n",
       "      <td>0.0</td>\n",
       "      <td>0.0</td>\n",
       "      <td>0.0</td>\n",
       "      <td>0.0</td>\n",
       "      <td>0.0</td>\n",
       "      <td>0.0</td>\n",
       "      <td>0.0</td>\n",
       "      <td>0.0</td>\n",
       "      <td>1.0</td>\n",
       "      <td>1.0</td>\n",
       "      <td>0.0</td>\n",
       "      <td>0.0</td>\n",
       "      <td>0.0</td>\n",
       "      <td>1.0</td>\n",
       "      <td>0.0</td>\n",
       "      <td>0.0</td>\n",
       "    </tr>\n",
       "    <tr>\n",
       "      <th>2</th>\n",
       "      <td>0.0</td>\n",
       "      <td>0.0</td>\n",
       "      <td>0.0</td>\n",
       "      <td>0.0</td>\n",
       "      <td>0.0</td>\n",
       "      <td>0.0</td>\n",
       "      <td>0.0</td>\n",
       "      <td>0.0</td>\n",
       "      <td>0.0</td>\n",
       "      <td>0.0</td>\n",
       "      <td>1.0</td>\n",
       "      <td>0.0</td>\n",
       "      <td>0.0</td>\n",
       "      <td>0.0</td>\n",
       "      <td>0.0</td>\n",
       "      <td>0.0</td>\n",
       "      <td>0.0</td>\n",
       "    </tr>\n",
       "  </tbody>\n",
       "</table>\n",
       "</div>"
      ],
      "text/plain": [
       "   Q51_欲しかったこと_実施計画書の内容精査（契約手続きに係る対応）  Q51_欲しかったこと_予算要求または予算配分に係る対応  \\\n",
       "0                                 0.0                           0.0   \n",
       "1                                 0.0                           0.0   \n",
       "2                                 0.0                           0.0   \n",
       "\n",
       "   Q51_欲しかったこと_中間・事後評価に係る対応  Q51_欲しかったこと_検査に係る対応  Q51_欲しかったこと_資産処分に係る対応  \\\n",
       "0                       0.0                  0.0                    0.0   \n",
       "1                       0.0                  0.0                    0.0   \n",
       "2                       0.0                  0.0                    0.0   \n",
       "\n",
       "   Q51_欲しかったこと_成果報告書の内容精査  Q51_欲しかったこと_各種提出書類に係る対応  Q51_欲しかったこと_他機関との利害調整  \\\n",
       "0                     0.0                      0.0                    0.0   \n",
       "1                     0.0                      0.0                    0.0   \n",
       "2                     0.0                      0.0                    0.0   \n",
       "\n",
       "   Q51_欲しかったこと_法規制に係る協議  Q51_欲しかったこと_事業化シナリオの方向性検討  Q51_欲しかったこと_研究開発の方向性検討  \\\n",
       "0                   0.0                        0.0                     0.0   \n",
       "1                   0.0                        1.0                     1.0   \n",
       "2                   0.0                        0.0                     1.0   \n",
       "\n",
       "   Q51_欲しかったこと_知的財産等の取り扱いに係る検討  Q51_欲しかったこと_戦略的な標準化取得に向けた検討  \\\n",
       "0                          0.0                          0.0   \n",
       "1                          0.0                          0.0   \n",
       "2                          0.0                          0.0   \n",
       "\n",
       "   Q51_欲しかったこと_技術的なアドバイス（データ解析・解釈）  Q51_欲しかったこと_市場に関するアドバイス  \\\n",
       "0                              1.0                      0.0   \n",
       "1                              0.0                      1.0   \n",
       "2                              0.0                      0.0   \n",
       "\n",
       "   Q51_欲しかったこと_委員会準備（データ・資料整理　プレゼン方法等）  Q51_欲しかったこと_宣伝・広報  \n",
       "0                                  0.0                0.0  \n",
       "1                                  0.0                0.0  \n",
       "2                                  0.0                0.0  "
      ]
     },
     "execution_count": 34,
     "metadata": {},
     "output_type": "execute_result"
    }
   ],
   "source": [
    "Q51_open.head(3)"
   ]
  },
  {
   "cell_type": "code",
   "execution_count": 35,
   "metadata": {
    "collapsed": false
   },
   "outputs": [
    {
     "name": "stdout",
     "output_type": "stream",
     "text": [
      "Q11_open\t Q30_open\t Q33_open\t Q34_open\t Q4\t Q44_open\t Q46_open\t Q47_open\t Q48_open\t \n",
      "Q48_open_part\t Q48_open_part2\t Q49_open\t Q4_open\t Q50_open\t Q51_open\t columns\t columns_Q4\t data\t \n",
      "data_\t data_temp\t i\t np\t pd\t plt\t sns\t temp\t temp_data\t \n",
      "temp_data_\t value\t \n"
     ]
    }
   ],
   "source": [
    "who"
   ]
  },
  {
   "cell_type": "markdown",
   "metadata": {},
   "source": [
    "# 成功データの結合"
   ]
  },
  {
   "cell_type": "code",
   "execution_count": 36,
   "metadata": {
    "collapsed": true
   },
   "outputs": [],
   "source": [
    "Q4_suc = Q4_open.ix[:,Q4_open.columns.str.contains(u'_1.0')]\n",
    "Q11_suc = Q11_open.ix[:,0]\n",
    "Q30_suc = Q30_open\n",
    "Q33_suc = Q33_open\n",
    "Q34_suc = Q34_open.ix[:,0]\n",
    "Q44_suc = Q44_open.ix[:,0]\n",
    "Q46_suc = Q46_open.ix[:,Q46_open.columns.str.contains(u'_1.0')]\n",
    "Q47_suc = Q47_open.ix[:,:2]\n",
    "Q48_suc = Q48_open.ix[:,[0,6,7,8]]\n",
    "Q49_suc = Q49_open\n",
    "Q50_suc = Q50_open.ix[:,0]"
   ]
  },
  {
   "cell_type": "code",
   "execution_count": 37,
   "metadata": {
    "collapsed": false
   },
   "outputs": [],
   "source": [
    "data_list = [Q4_suc,Q30_suc,Q33_suc,Q34_suc,Q44_suc,Q46_suc,Q47_suc,Q48_suc,Q50_suc]"
   ]
  },
  {
   "cell_type": "code",
   "execution_count": 38,
   "metadata": {
    "collapsed": false
   },
   "outputs": [],
   "source": [
    "data_merge = pd.concat(data_list,axis=1)"
   ]
  },
  {
   "cell_type": "code",
   "execution_count": 39,
   "metadata": {
    "collapsed": false
   },
   "outputs": [
    {
     "data": {
      "text/plain": [
       "(175, 22)"
      ]
     },
     "execution_count": 39,
     "metadata": {},
     "output_type": "execute_result"
    }
   ],
   "source": [
    "data_merge.shape"
   ]
  },
  {
   "cell_type": "code",
   "execution_count": 40,
   "metadata": {
    "collapsed": false
   },
   "outputs": [
    {
     "data": {
      "text/plain": [
       "Q4_目的明確_1.0                  150.0\n",
       "Q4_目的共有_1.0                  144.0\n",
       "Q4_目標明確_1.0                  133.0\n",
       "Q4_目標共有_1.0                  129.0\n",
       "Q4_役割分担_1.0                  138.0\n",
       "Q4_役割共有_1.0                  140.0\n",
       "Q30_ネットワーク要因_日常的なNEDOとの交流     17.0\n",
       "Q30_ネットワーク要因_NEDO主催の委員会など     50.0\n",
       "Q33_推進_1.0                    62.0\n",
       "Q33_調整_1.0                    57.0\n",
       "Q33_事業化_1.0                   26.0\n",
       "Q34_PL_1.0                     3.0\n",
       "Q44_満足_評価_1.0                 43.0\n",
       "Q46_構成_1.0                    31.0\n",
       "Q46_内容_1.0                    89.0\n",
       "Q47_提言_1.0                    47.0\n",
       "Q47_提言_2.0                    74.0\n",
       "Q48_満足_評価_1.0                 41.0\n",
       "Q48_影響_目標達成度の向上               78.0\n",
       "Q48_影響_予期せぬ成果が得られた             5.0\n",
       "Q48_影響_競争優位性の強化               14.0\n",
       "Q50_評価_1.0                    46.0\n",
       "dtype: float64"
      ]
     },
     "execution_count": 40,
     "metadata": {},
     "output_type": "execute_result"
    }
   ],
   "source": [
    "data_merge.sum()"
   ]
  },
  {
   "cell_type": "code",
   "execution_count": 41,
   "metadata": {
    "collapsed": false
   },
   "outputs": [],
   "source": [
    "sum_data = data_merge.sum(axis=1)"
   ]
  },
  {
   "cell_type": "code",
   "execution_count": 42,
   "metadata": {
    "collapsed": false
   },
   "outputs": [
    {
     "data": {
      "text/plain": [
       "count    175.000000\n",
       "mean       8.668571\n",
       "std        3.353483\n",
       "min        0.000000\n",
       "25%        7.000000\n",
       "50%        9.000000\n",
       "75%       11.000000\n",
       "max       16.000000\n",
       "dtype: float64"
      ]
     },
     "execution_count": 42,
     "metadata": {},
     "output_type": "execute_result"
    }
   ],
   "source": [
    "sum_data.describe()"
   ]
  },
  {
   "cell_type": "code",
   "execution_count": 43,
   "metadata": {
    "collapsed": false,
    "scrolled": true
   },
   "outputs": [
    {
     "data": {
      "text/plain": [
       "<matplotlib.lines.Line2D at 0x7f8ba342aad0>"
      ]
     },
     "execution_count": 43,
     "metadata": {},
     "output_type": "execute_result"
    },
    {
     "data": {
      "image/png": "[encoded data removed]",
      "text/plain": [
       "<matplotlib.figure.Figure at 0x7f8ba342a750>"
      ]
     },
     "metadata": {},
     "output_type": "display_data"
    }
   ],
   "source": [
    "sum_data.plot(kind='hist',range=[0,23],bins=24)\n",
    "plt.axvline(sum_data.mean(),c='r',linestyle='--')"
   ]
  },
  {
   "cell_type": "markdown",
   "metadata": {},
   "source": [
    "平均が9.5で標準偏差が3.5なので13以上のデータをうまく言ったデータとして活用する。34ケース"
   ]
  },
  {
   "cell_type": "code",
   "execution_count": 44,
   "metadata": {
    "collapsed": false
   },
   "outputs": [],
   "source": [
    "success_data = (sum_data>=12).astype(int)"
   ]
  },
  {
   "cell_type": "code",
   "execution_count": 45,
   "metadata": {
    "collapsed": false
   },
   "outputs": [],
   "source": [
    "test_data = pd.concat([success_data,Q11_open],axis=1)"
   ]
  },
  {
   "cell_type": "code",
   "execution_count": 46,
   "metadata": {
    "collapsed": false
   },
   "outputs": [
    {
     "data": {
      "text/html": [
       "<div>\n",
       "<table border=\"1\" class=\"dataframe\">\n",
       "  <thead>\n",
       "    <tr style=\"text-align: right;\">\n",
       "      <th></th>\n",
       "      <th>Q11_目標_1.0</th>\n",
       "      <th>Q11_目標_2.0</th>\n",
       "      <th>Q11_目標_3.0</th>\n",
       "      <th>Q11_目標_4.0</th>\n",
       "      <th>Q11_目標_6.0</th>\n",
       "    </tr>\n",
       "    <tr>\n",
       "      <th>0</th>\n",
       "      <th></th>\n",
       "      <th></th>\n",
       "      <th></th>\n",
       "      <th></th>\n",
       "      <th></th>\n",
       "    </tr>\n",
       "  </thead>\n",
       "  <tbody>\n",
       "    <tr>\n",
       "      <th>0</th>\n",
       "      <td>0.424460</td>\n",
       "      <td>0.374101</td>\n",
       "      <td>0.129496</td>\n",
       "      <td>0.028777</td>\n",
       "      <td>0.028777</td>\n",
       "    </tr>\n",
       "    <tr>\n",
       "      <th>1</th>\n",
       "      <td>0.611111</td>\n",
       "      <td>0.333333</td>\n",
       "      <td>0.000000</td>\n",
       "      <td>0.027778</td>\n",
       "      <td>0.027778</td>\n",
       "    </tr>\n",
       "  </tbody>\n",
       "</table>\n",
       "</div>"
      ],
      "text/plain": [
       "   Q11_目標_1.0  Q11_目標_2.0  Q11_目標_3.0  Q11_目標_4.0  Q11_目標_6.0\n",
       "0                                                            \n",
       "0    0.424460    0.374101    0.129496    0.028777    0.028777\n",
       "1    0.611111    0.333333    0.000000    0.027778    0.027778"
      ]
     },
     "execution_count": 46,
     "metadata": {},
     "output_type": "execute_result"
    }
   ],
   "source": [
    "#たくさんうまくいくといい感じだね\n",
    "test_data.groupby(0).mean()"
   ]
  },
  {
   "cell_type": "code",
   "execution_count": 47,
   "metadata": {
    "collapsed": false
   },
   "outputs": [],
   "source": [
    "test_suc = test_data[test_data[0]==1]"
   ]
  },
  {
   "cell_type": "code",
   "execution_count": 48,
   "metadata": {
    "collapsed": false
   },
   "outputs": [
    {
     "data": {
      "text/plain": [
       "Int64Index([82], dtype='int64')"
      ]
     },
     "execution_count": 48,
     "metadata": {},
     "output_type": "execute_result"
    }
   ],
   "source": [
    "#目標値の達成度低い\n",
    "test_suc[(test_suc[u'Q11_目標_3.0']==1) | (test_suc[u'Q11_目標_4.0']==1)].index"
   ]
  },
  {
   "cell_type": "code",
   "execution_count": 49,
   "metadata": {
    "collapsed": false,
    "scrolled": true
   },
   "outputs": [
    {
     "data": {
      "text/plain": [
       "0      False\n",
       "2      False\n",
       "7       True\n",
       "8       True\n",
       "15      True\n",
       "21     False\n",
       "25     False\n",
       "26     False\n",
       "31     False\n",
       "32     False\n",
       "36     False\n",
       "39     False\n",
       "43     False\n",
       "46     False\n",
       "50     False\n",
       "56     False\n",
       "59     False\n",
       "71     False\n",
       "82      True\n",
       "83     False\n",
       "84     False\n",
       "87     False\n",
       "90     False\n",
       "92     False\n",
       "93     False\n",
       "101    False\n",
       "108    False\n",
       "111    False\n",
       "113    False\n",
       "119    False\n",
       "121    False\n",
       "145    False\n",
       "146    False\n",
       "158    False\n",
       "160    False\n",
       "174    False\n",
       "Name: Q13_継続・非継続, dtype: bool"
      ]
     },
     "execution_count": 49,
     "metadata": {},
     "output_type": "execute_result"
    }
   ],
   "source": [
    "#中止中断\n",
    "data.loc[test_suc.index][u'Q13_継続・非継続']==2"
   ]
  },
  {
   "cell_type": "code",
   "execution_count": 50,
   "metadata": {
    "collapsed": true
   },
   "outputs": [],
   "source": [
    "Q4_fal = Q4_open.ix[:,Q4_open.columns.str.contains(u'_3.0')]\n",
    "Q30_fal = (Q30_open==0).astype(int)\n",
    "Q33_fal = (Q33_open==0).astype(int)\n",
    "Q34_fal = Q34_open.ix[:,5]\n",
    "Q44_fal = Q44_open.ix[:,4]\n",
    "Q46_fal = Q46_open[[u'Q46_構成_3.0',u'Q46_内容_2.0']]\n",
    "Q47_fal = Q47_open.ix[:,2:]\n",
    "Q48_fal = Q48_open.ix[:,[4,9]]\n",
    "Q50_fal = Q50_open.ix[:,4]"
   ]
  },
  {
   "cell_type": "code",
   "execution_count": 51,
   "metadata": {
    "collapsed": false
   },
   "outputs": [],
   "source": [
    "data_list = [Q4_fal,Q30_fal,Q33_fal,Q34_fal,Q44_fal,Q46_fal,Q47_fal,Q48_fal,Q50_fal]"
   ]
  },
  {
   "cell_type": "code",
   "execution_count": 52,
   "metadata": {
    "collapsed": false
   },
   "outputs": [],
   "source": [
    "merge_data_fal = pd.concat(data_list,axis=1)"
   ]
  },
  {
   "cell_type": "code",
   "execution_count": 53,
   "metadata": {
    "collapsed": false
   },
   "outputs": [
    {
     "data": {
      "text/plain": [
       "Q4_役割分担_3.0                    1.0\n",
       "Q4_役割共有_3.0                    1.0\n",
       "Q30_ネットワーク要因_日常的なNEDOとの交流    158.0\n",
       "Q30_ネットワーク要因_NEDO主催の委員会など    125.0\n",
       "Q33_推進_1.0                   113.0\n",
       "Q33_調整_1.0                   118.0\n",
       "Q33_事業化_1.0                  149.0\n",
       "Q34_PL_6.0                    28.0\n",
       "Q44_満足_評価_5.0                  1.0\n",
       "Q46_構成_3.0                     1.0\n",
       "Q46_内容_2.0                    10.0\n",
       "Q47_提言_3.0                     5.0\n",
       "Q47_提言_4.0                    20.0\n",
       "Q48_満足_評価_5.0                  3.0\n",
       "Q48_影響_殆どなかった                 36.0\n",
       "Q50_評価_5.0                     2.0\n",
       "dtype: float64"
      ]
     },
     "execution_count": 53,
     "metadata": {},
     "output_type": "execute_result"
    }
   ],
   "source": [
    "merge_data_fal.sum()"
   ]
  },
  {
   "cell_type": "code",
   "execution_count": 54,
   "metadata": {
    "collapsed": false
   },
   "outputs": [],
   "source": [
    "merge_data_fal_sum = merge_data_fal.sum(axis=1)"
   ]
  },
  {
   "cell_type": "code",
   "execution_count": 55,
   "metadata": {
    "collapsed": false
   },
   "outputs": [
    {
     "data": {
      "text/plain": [
       "count    175.000000\n",
       "mean       4.405714\n",
       "std        1.681875\n",
       "min        1.000000\n",
       "25%        3.000000\n",
       "50%        5.000000\n",
       "75%        5.000000\n",
       "max        9.000000\n",
       "dtype: float64"
      ]
     },
     "execution_count": 55,
     "metadata": {},
     "output_type": "execute_result"
    }
   ],
   "source": [
    "merge_data_fal_sum.describe()"
   ]
  },
  {
   "cell_type": "code",
   "execution_count": 56,
   "metadata": {
    "collapsed": false
   },
   "outputs": [
    {
     "data": {
      "text/plain": [
       "<matplotlib.lines.Line2D at 0x7f8ba0996090>"
      ]
     },
     "execution_count": 56,
     "metadata": {},
     "output_type": "execute_result"
    },
    {
     "data": {
      "image/png": "[encoded data removed]",
      "text/plain": [
       "<matplotlib.figure.Figure at 0x7f8ba0ff7c10>"
      ]
     },
     "metadata": {},
     "output_type": "display_data"
    }
   ],
   "source": [
    "merge_data_fal_sum.plot(kind='hist',range=(0,16),bins=17)\n",
    "plt.axvline(merge_data_fal_sum.mean(),linestyle='--',c='r')"
   ]
  },
  {
   "cell_type": "code",
   "execution_count": 57,
   "metadata": {
    "collapsed": false,
    "scrolled": true
   },
   "outputs": [],
   "source": [
    "fal_data = (merge_data_fal_sum>=7).astype(int)"
   ]
  },
  {
   "cell_type": "code",
   "execution_count": 58,
   "metadata": {
    "collapsed": true
   },
   "outputs": [],
   "source": [
    "merge_fal_data = pd.concat([fal_data,Q11_open],axis=1)"
   ]
  },
  {
   "cell_type": "code",
   "execution_count": 59,
   "metadata": {
    "collapsed": false
   },
   "outputs": [
    {
     "data": {
      "text/html": [
       "<div>\n",
       "<table border=\"1\" class=\"dataframe\">\n",
       "  <thead>\n",
       "    <tr style=\"text-align: right;\">\n",
       "      <th></th>\n",
       "      <th>Q11_目標_1.0</th>\n",
       "      <th>Q11_目標_2.0</th>\n",
       "      <th>Q11_目標_3.0</th>\n",
       "      <th>Q11_目標_4.0</th>\n",
       "      <th>Q11_目標_6.0</th>\n",
       "    </tr>\n",
       "    <tr>\n",
       "      <th>0</th>\n",
       "      <th></th>\n",
       "      <th></th>\n",
       "      <th></th>\n",
       "      <th></th>\n",
       "      <th></th>\n",
       "    </tr>\n",
       "  </thead>\n",
       "  <tbody>\n",
       "    <tr>\n",
       "      <th>0</th>\n",
       "      <td>0.471338</td>\n",
       "      <td>0.363057</td>\n",
       "      <td>0.101911</td>\n",
       "      <td>0.019108</td>\n",
       "      <td>0.031847</td>\n",
       "    </tr>\n",
       "    <tr>\n",
       "      <th>1</th>\n",
       "      <td>0.388889</td>\n",
       "      <td>0.388889</td>\n",
       "      <td>0.111111</td>\n",
       "      <td>0.111111</td>\n",
       "      <td>0.000000</td>\n",
       "    </tr>\n",
       "  </tbody>\n",
       "</table>\n",
       "</div>"
      ],
      "text/plain": [
       "   Q11_目標_1.0  Q11_目標_2.0  Q11_目標_3.0  Q11_目標_4.0  Q11_目標_6.0\n",
       "0                                                            \n",
       "0    0.471338    0.363057    0.101911    0.019108    0.031847\n",
       "1    0.388889    0.388889    0.111111    0.111111    0.000000"
      ]
     },
     "execution_count": 59,
     "metadata": {},
     "output_type": "execute_result"
    }
   ],
   "source": [
    "merge_fal_data.groupby(0).mean()"
   ]
  },
  {
   "cell_type": "code",
   "execution_count": 60,
   "metadata": {
    "collapsed": false
   },
   "outputs": [
    {
     "data": {
      "text/html": [
       "<div>\n",
       "<table border=\"1\" class=\"dataframe\">\n",
       "  <thead>\n",
       "    <tr style=\"text-align: right;\">\n",
       "      <th></th>\n",
       "      <th>0</th>\n",
       "      <th>Q11_目標_1.0</th>\n",
       "      <th>Q11_目標_2.0</th>\n",
       "      <th>Q11_目標_3.0</th>\n",
       "      <th>Q11_目標_4.0</th>\n",
       "      <th>Q11_目標_6.0</th>\n",
       "    </tr>\n",
       "  </thead>\n",
       "  <tbody>\n",
       "    <tr>\n",
       "      <th>0</th>\n",
       "      <td>0</td>\n",
       "      <td>1.0</td>\n",
       "      <td>0.0</td>\n",
       "      <td>0.0</td>\n",
       "      <td>0.0</td>\n",
       "      <td>0.0</td>\n",
       "    </tr>\n",
       "    <tr>\n",
       "      <th>1</th>\n",
       "      <td>0</td>\n",
       "      <td>1.0</td>\n",
       "      <td>0.0</td>\n",
       "      <td>0.0</td>\n",
       "      <td>0.0</td>\n",
       "      <td>0.0</td>\n",
       "    </tr>\n",
       "    <tr>\n",
       "      <th>2</th>\n",
       "      <td>0</td>\n",
       "      <td>0.0</td>\n",
       "      <td>1.0</td>\n",
       "      <td>0.0</td>\n",
       "      <td>0.0</td>\n",
       "      <td>0.0</td>\n",
       "    </tr>\n",
       "    <tr>\n",
       "      <th>3</th>\n",
       "      <td>0</td>\n",
       "      <td>0.0</td>\n",
       "      <td>1.0</td>\n",
       "      <td>0.0</td>\n",
       "      <td>0.0</td>\n",
       "      <td>0.0</td>\n",
       "    </tr>\n",
       "    <tr>\n",
       "      <th>4</th>\n",
       "      <td>0</td>\n",
       "      <td>1.0</td>\n",
       "      <td>0.0</td>\n",
       "      <td>0.0</td>\n",
       "      <td>0.0</td>\n",
       "      <td>0.0</td>\n",
       "    </tr>\n",
       "  </tbody>\n",
       "</table>\n",
       "</div>"
      ],
      "text/plain": [
       "   0  Q11_目標_1.0  Q11_目標_2.0  Q11_目標_3.0  Q11_目標_4.0  Q11_目標_6.0\n",
       "0  0         1.0         0.0         0.0         0.0         0.0\n",
       "1  0         1.0         0.0         0.0         0.0         0.0\n",
       "2  0         0.0         1.0         0.0         0.0         0.0\n",
       "3  0         0.0         1.0         0.0         0.0         0.0\n",
       "4  0         1.0         0.0         0.0         0.0         0.0"
      ]
     },
     "execution_count": 60,
     "metadata": {},
     "output_type": "execute_result"
    }
   ],
   "source": [
    "merge_fal_data.head()"
   ]
  },
  {
   "cell_type": "code",
   "execution_count": 67,
   "metadata": {
    "collapsed": false,
    "scrolled": true
   },
   "outputs": [],
   "source": [
    "#マネジメント評価は低くても目的達成度が高い\n",
    "fal_data_q11 = pd.concat([fal_data,Q11_open],axis=1)"
   ]
  },
  {
   "cell_type": "code",
   "execution_count": 74,
   "metadata": {
    "collapsed": false
   },
   "outputs": [
    {
     "data": {
      "text/html": [
       "<div>\n",
       "<table border=\"1\" class=\"dataframe\">\n",
       "  <thead>\n",
       "    <tr style=\"text-align: right;\">\n",
       "      <th></th>\n",
       "      <th>0</th>\n",
       "      <th>Q11_目標_1.0</th>\n",
       "      <th>Q11_目標_2.0</th>\n",
       "      <th>Q11_目標_3.0</th>\n",
       "      <th>Q11_目標_4.0</th>\n",
       "      <th>Q11_目標_6.0</th>\n",
       "    </tr>\n",
       "  </thead>\n",
       "  <tbody>\n",
       "    <tr>\n",
       "      <th>34</th>\n",
       "      <td>1</td>\n",
       "      <td>1.0</td>\n",
       "      <td>0.0</td>\n",
       "      <td>0.0</td>\n",
       "      <td>0.0</td>\n",
       "      <td>0.0</td>\n",
       "    </tr>\n",
       "    <tr>\n",
       "      <th>38</th>\n",
       "      <td>1</td>\n",
       "      <td>1.0</td>\n",
       "      <td>0.0</td>\n",
       "      <td>0.0</td>\n",
       "      <td>0.0</td>\n",
       "      <td>0.0</td>\n",
       "    </tr>\n",
       "    <tr>\n",
       "      <th>95</th>\n",
       "      <td>1</td>\n",
       "      <td>1.0</td>\n",
       "      <td>0.0</td>\n",
       "      <td>0.0</td>\n",
       "      <td>0.0</td>\n",
       "      <td>0.0</td>\n",
       "    </tr>\n",
       "    <tr>\n",
       "      <th>136</th>\n",
       "      <td>1</td>\n",
       "      <td>1.0</td>\n",
       "      <td>0.0</td>\n",
       "      <td>0.0</td>\n",
       "      <td>0.0</td>\n",
       "      <td>0.0</td>\n",
       "    </tr>\n",
       "    <tr>\n",
       "      <th>143</th>\n",
       "      <td>1</td>\n",
       "      <td>1.0</td>\n",
       "      <td>0.0</td>\n",
       "      <td>0.0</td>\n",
       "      <td>0.0</td>\n",
       "      <td>0.0</td>\n",
       "    </tr>\n",
       "    <tr>\n",
       "      <th>154</th>\n",
       "      <td>1</td>\n",
       "      <td>1.0</td>\n",
       "      <td>0.0</td>\n",
       "      <td>0.0</td>\n",
       "      <td>0.0</td>\n",
       "      <td>0.0</td>\n",
       "    </tr>\n",
       "    <tr>\n",
       "      <th>161</th>\n",
       "      <td>1</td>\n",
       "      <td>1.0</td>\n",
       "      <td>0.0</td>\n",
       "      <td>0.0</td>\n",
       "      <td>0.0</td>\n",
       "      <td>0.0</td>\n",
       "    </tr>\n",
       "  </tbody>\n",
       "</table>\n",
       "</div>"
      ],
      "text/plain": [
       "     0  Q11_目標_1.0  Q11_目標_2.0  Q11_目標_3.0  Q11_目標_4.0  Q11_目標_6.0\n",
       "34   1         1.0         0.0         0.0         0.0         0.0\n",
       "38   1         1.0         0.0         0.0         0.0         0.0\n",
       "95   1         1.0         0.0         0.0         0.0         0.0\n",
       "136  1         1.0         0.0         0.0         0.0         0.0\n",
       "143  1         1.0         0.0         0.0         0.0         0.0\n",
       "154  1         1.0         0.0         0.0         0.0         0.0\n",
       "161  1         1.0         0.0         0.0         0.0         0.0"
      ]
     },
     "execution_count": 74,
     "metadata": {},
     "output_type": "execute_result"
    }
   ],
   "source": [
    "fal_data_q11[(fal_data_q11[0]==1) & (fal_data_q11[u\"Q11_目標_1.0\"]==1)]"
   ]
  },
  {
   "cell_type": "code",
   "execution_count": null,
   "metadata": {
    "collapsed": true
   },
   "outputs": [],
   "source": []
  }
 ],
 "metadata": {
  "anaconda-cloud": {},
  "kernelspec": {
   "display_name": "Python [conda root]",
   "language": "python",
   "name": "conda-root-py"
  },
  "language_info": {
   "codemirror_mode": {
    "name": "ipython",
    "version": 2
   },
   "file_extension": ".py",
   "mimetype": "text/x-python",
   "name": "python",
   "nbconvert_exporter": "python",
   "pygments_lexer": "ipython2",
   "version": "2.7.12"
  }
 },
 "nbformat": 4,
 "nbformat_minor": 1
}
